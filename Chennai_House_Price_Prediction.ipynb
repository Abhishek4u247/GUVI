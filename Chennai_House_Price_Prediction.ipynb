{
  "nbformat": 4,
  "nbformat_minor": 0,
  "metadata": {
    "colab": {
      "provenance": []
    },
    "kernelspec": {
      "name": "python3",
      "display_name": "Python 3"
    },
    "language_info": {
      "name": "python"
    }
  },
  "cells": [
    {
      "cell_type": "markdown",
      "source": [
        "## This will predict the sales_price of the houses in Chennai"
      ],
      "metadata": {
        "id": "c2mOejX-eFlv"
      }
    },
    {
      "cell_type": "code",
      "execution_count": 1,
      "metadata": {
        "id": "EANYQbuG0hp5"
      },
      "outputs": [],
      "source": [
        "# Importing Libraries       \n",
        "import pandas as pd     \n",
        "import matplotlib.pyplot as plt \n",
        "import seaborn as sns\n",
        "from sklearn.preprocessing import StandardScaler\n",
        "from sklearn.model_selection import train_test_split  \n",
        "from sklearn.linear_model import LinearRegression\n",
        "from sklearn.tree import DecisionTreeRegressor\n",
        "from sklearn.neighbors import KNeighborsRegressor\n",
        "from sklearn.ensemble import RandomForestRegressor\n",
        "from xgboost import XGBRegressor\n",
        "from sklearn.metrics import r2_score"
      ]
    },
    {
      "cell_type": "code",
      "source": [
        "#Importing the dataset\n",
        "df = pd.read_csv('train-chennai-sale.csv')\n",
        "df.head()"
      ],
      "metadata": {
        "colab": {
          "base_uri": "https://localhost:8080/",
          "height": 386
        },
        "id": "VlVpO4Zf04EI",
        "outputId": "d5c3b23c-a600-4ee1-8de0-c7078cb5cb26"
      },
      "execution_count": 2,
      "outputs": [
        {
          "output_type": "execute_result",
          "data": {
            "text/plain": [
              "   PRT_ID        AREA  INT_SQFT   DATE_SALE  DIST_MAINROAD  N_BEDROOM  \\\n",
              "0  P03210  Karapakkam      1004  04-05-2011            131        1.0   \n",
              "1  P09411  Anna Nagar      1986  19-12-2006             26        2.0   \n",
              "2  P01812       Adyar       909  04-02-2012             70        1.0   \n",
              "3  P05346   Velachery      1855  13-03-2010             14        3.0   \n",
              "4  P06210  Karapakkam      1226  05-10-2009             84        1.0   \n",
              "\n",
              "   N_BATHROOM  N_ROOM SALE_COND PARK_FACIL  ... UTILITY_AVAIL  STREET MZZONE  \\\n",
              "0         1.0       3  AbNormal        Yes  ...        AllPub   Paved      A   \n",
              "1         1.0       5  AbNormal         No  ...        AllPub  Gravel     RH   \n",
              "2         1.0       3  AbNormal        Yes  ...           ELO  Gravel     RL   \n",
              "3         2.0       5    Family         No  ...       NoSewr    Paved      I   \n",
              "4         1.0       3  AbNormal        Yes  ...        AllPub  Gravel      C   \n",
              "\n",
              "  QS_ROOMS QS_BATHROOM  QS_BEDROOM  QS_OVERALL  REG_FEE  COMMIS  SALES_PRICE  \n",
              "0      4.0         3.9         4.9       4.330   380000  144400      7600000  \n",
              "1      4.9         4.2         2.5       3.765   760122  304049     21717770  \n",
              "2      4.1         3.8         2.2       3.090   421094   92114     13159200  \n",
              "3      4.7         3.9         3.6       4.010   356321   77042      9630290  \n",
              "4      3.0         2.5         4.1       3.290   237000   74063      7406250  \n",
              "\n",
              "[5 rows x 22 columns]"
            ],
            "text/html": [
              "\n",
              "  <div id=\"df-9a21295a-3b0c-4fc4-93d3-b7037a6d5aa8\">\n",
              "    <div class=\"colab-df-container\">\n",
              "      <div>\n",
              "<style scoped>\n",
              "    .dataframe tbody tr th:only-of-type {\n",
              "        vertical-align: middle;\n",
              "    }\n",
              "\n",
              "    .dataframe tbody tr th {\n",
              "        vertical-align: top;\n",
              "    }\n",
              "\n",
              "    .dataframe thead th {\n",
              "        text-align: right;\n",
              "    }\n",
              "</style>\n",
              "<table border=\"1\" class=\"dataframe\">\n",
              "  <thead>\n",
              "    <tr style=\"text-align: right;\">\n",
              "      <th></th>\n",
              "      <th>PRT_ID</th>\n",
              "      <th>AREA</th>\n",
              "      <th>INT_SQFT</th>\n",
              "      <th>DATE_SALE</th>\n",
              "      <th>DIST_MAINROAD</th>\n",
              "      <th>N_BEDROOM</th>\n",
              "      <th>N_BATHROOM</th>\n",
              "      <th>N_ROOM</th>\n",
              "      <th>SALE_COND</th>\n",
              "      <th>PARK_FACIL</th>\n",
              "      <th>...</th>\n",
              "      <th>UTILITY_AVAIL</th>\n",
              "      <th>STREET</th>\n",
              "      <th>MZZONE</th>\n",
              "      <th>QS_ROOMS</th>\n",
              "      <th>QS_BATHROOM</th>\n",
              "      <th>QS_BEDROOM</th>\n",
              "      <th>QS_OVERALL</th>\n",
              "      <th>REG_FEE</th>\n",
              "      <th>COMMIS</th>\n",
              "      <th>SALES_PRICE</th>\n",
              "    </tr>\n",
              "  </thead>\n",
              "  <tbody>\n",
              "    <tr>\n",
              "      <th>0</th>\n",
              "      <td>P03210</td>\n",
              "      <td>Karapakkam</td>\n",
              "      <td>1004</td>\n",
              "      <td>04-05-2011</td>\n",
              "      <td>131</td>\n",
              "      <td>1.0</td>\n",
              "      <td>1.0</td>\n",
              "      <td>3</td>\n",
              "      <td>AbNormal</td>\n",
              "      <td>Yes</td>\n",
              "      <td>...</td>\n",
              "      <td>AllPub</td>\n",
              "      <td>Paved</td>\n",
              "      <td>A</td>\n",
              "      <td>4.0</td>\n",
              "      <td>3.9</td>\n",
              "      <td>4.9</td>\n",
              "      <td>4.330</td>\n",
              "      <td>380000</td>\n",
              "      <td>144400</td>\n",
              "      <td>7600000</td>\n",
              "    </tr>\n",
              "    <tr>\n",
              "      <th>1</th>\n",
              "      <td>P09411</td>\n",
              "      <td>Anna Nagar</td>\n",
              "      <td>1986</td>\n",
              "      <td>19-12-2006</td>\n",
              "      <td>26</td>\n",
              "      <td>2.0</td>\n",
              "      <td>1.0</td>\n",
              "      <td>5</td>\n",
              "      <td>AbNormal</td>\n",
              "      <td>No</td>\n",
              "      <td>...</td>\n",
              "      <td>AllPub</td>\n",
              "      <td>Gravel</td>\n",
              "      <td>RH</td>\n",
              "      <td>4.9</td>\n",
              "      <td>4.2</td>\n",
              "      <td>2.5</td>\n",
              "      <td>3.765</td>\n",
              "      <td>760122</td>\n",
              "      <td>304049</td>\n",
              "      <td>21717770</td>\n",
              "    </tr>\n",
              "    <tr>\n",
              "      <th>2</th>\n",
              "      <td>P01812</td>\n",
              "      <td>Adyar</td>\n",
              "      <td>909</td>\n",
              "      <td>04-02-2012</td>\n",
              "      <td>70</td>\n",
              "      <td>1.0</td>\n",
              "      <td>1.0</td>\n",
              "      <td>3</td>\n",
              "      <td>AbNormal</td>\n",
              "      <td>Yes</td>\n",
              "      <td>...</td>\n",
              "      <td>ELO</td>\n",
              "      <td>Gravel</td>\n",
              "      <td>RL</td>\n",
              "      <td>4.1</td>\n",
              "      <td>3.8</td>\n",
              "      <td>2.2</td>\n",
              "      <td>3.090</td>\n",
              "      <td>421094</td>\n",
              "      <td>92114</td>\n",
              "      <td>13159200</td>\n",
              "    </tr>\n",
              "    <tr>\n",
              "      <th>3</th>\n",
              "      <td>P05346</td>\n",
              "      <td>Velachery</td>\n",
              "      <td>1855</td>\n",
              "      <td>13-03-2010</td>\n",
              "      <td>14</td>\n",
              "      <td>3.0</td>\n",
              "      <td>2.0</td>\n",
              "      <td>5</td>\n",
              "      <td>Family</td>\n",
              "      <td>No</td>\n",
              "      <td>...</td>\n",
              "      <td>NoSewr</td>\n",
              "      <td>Paved</td>\n",
              "      <td>I</td>\n",
              "      <td>4.7</td>\n",
              "      <td>3.9</td>\n",
              "      <td>3.6</td>\n",
              "      <td>4.010</td>\n",
              "      <td>356321</td>\n",
              "      <td>77042</td>\n",
              "      <td>9630290</td>\n",
              "    </tr>\n",
              "    <tr>\n",
              "      <th>4</th>\n",
              "      <td>P06210</td>\n",
              "      <td>Karapakkam</td>\n",
              "      <td>1226</td>\n",
              "      <td>05-10-2009</td>\n",
              "      <td>84</td>\n",
              "      <td>1.0</td>\n",
              "      <td>1.0</td>\n",
              "      <td>3</td>\n",
              "      <td>AbNormal</td>\n",
              "      <td>Yes</td>\n",
              "      <td>...</td>\n",
              "      <td>AllPub</td>\n",
              "      <td>Gravel</td>\n",
              "      <td>C</td>\n",
              "      <td>3.0</td>\n",
              "      <td>2.5</td>\n",
              "      <td>4.1</td>\n",
              "      <td>3.290</td>\n",
              "      <td>237000</td>\n",
              "      <td>74063</td>\n",
              "      <td>7406250</td>\n",
              "    </tr>\n",
              "  </tbody>\n",
              "</table>\n",
              "<p>5 rows × 22 columns</p>\n",
              "</div>\n",
              "      <button class=\"colab-df-convert\" onclick=\"convertToInteractive('df-9a21295a-3b0c-4fc4-93d3-b7037a6d5aa8')\"\n",
              "              title=\"Convert this dataframe to an interactive table.\"\n",
              "              style=\"display:none;\">\n",
              "        \n",
              "  <svg xmlns=\"http://www.w3.org/2000/svg\" height=\"24px\"viewBox=\"0 0 24 24\"\n",
              "       width=\"24px\">\n",
              "    <path d=\"M0 0h24v24H0V0z\" fill=\"none\"/>\n",
              "    <path d=\"M18.56 5.44l.94 2.06.94-2.06 2.06-.94-2.06-.94-.94-2.06-.94 2.06-2.06.94zm-11 1L8.5 8.5l.94-2.06 2.06-.94-2.06-.94L8.5 2.5l-.94 2.06-2.06.94zm10 10l.94 2.06.94-2.06 2.06-.94-2.06-.94-.94-2.06-.94 2.06-2.06.94z\"/><path d=\"M17.41 7.96l-1.37-1.37c-.4-.4-.92-.59-1.43-.59-.52 0-1.04.2-1.43.59L10.3 9.45l-7.72 7.72c-.78.78-.78 2.05 0 2.83L4 21.41c.39.39.9.59 1.41.59.51 0 1.02-.2 1.41-.59l7.78-7.78 2.81-2.81c.8-.78.8-2.07 0-2.86zM5.41 20L4 18.59l7.72-7.72 1.47 1.35L5.41 20z\"/>\n",
              "  </svg>\n",
              "      </button>\n",
              "      \n",
              "  <style>\n",
              "    .colab-df-container {\n",
              "      display:flex;\n",
              "      flex-wrap:wrap;\n",
              "      gap: 12px;\n",
              "    }\n",
              "\n",
              "    .colab-df-convert {\n",
              "      background-color: #E8F0FE;\n",
              "      border: none;\n",
              "      border-radius: 50%;\n",
              "      cursor: pointer;\n",
              "      display: none;\n",
              "      fill: #1967D2;\n",
              "      height: 32px;\n",
              "      padding: 0 0 0 0;\n",
              "      width: 32px;\n",
              "    }\n",
              "\n",
              "    .colab-df-convert:hover {\n",
              "      background-color: #E2EBFA;\n",
              "      box-shadow: 0px 1px 2px rgba(60, 64, 67, 0.3), 0px 1px 3px 1px rgba(60, 64, 67, 0.15);\n",
              "      fill: #174EA6;\n",
              "    }\n",
              "\n",
              "    [theme=dark] .colab-df-convert {\n",
              "      background-color: #3B4455;\n",
              "      fill: #D2E3FC;\n",
              "    }\n",
              "\n",
              "    [theme=dark] .colab-df-convert:hover {\n",
              "      background-color: #434B5C;\n",
              "      box-shadow: 0px 1px 3px 1px rgba(0, 0, 0, 0.15);\n",
              "      filter: drop-shadow(0px 1px 2px rgba(0, 0, 0, 0.3));\n",
              "      fill: #FFFFFF;\n",
              "    }\n",
              "  </style>\n",
              "\n",
              "      <script>\n",
              "        const buttonEl =\n",
              "          document.querySelector('#df-9a21295a-3b0c-4fc4-93d3-b7037a6d5aa8 button.colab-df-convert');\n",
              "        buttonEl.style.display =\n",
              "          google.colab.kernel.accessAllowed ? 'block' : 'none';\n",
              "\n",
              "        async function convertToInteractive(key) {\n",
              "          const element = document.querySelector('#df-9a21295a-3b0c-4fc4-93d3-b7037a6d5aa8');\n",
              "          const dataTable =\n",
              "            await google.colab.kernel.invokeFunction('convertToInteractive',\n",
              "                                                     [key], {});\n",
              "          if (!dataTable) return;\n",
              "\n",
              "          const docLinkHtml = 'Like what you see? Visit the ' +\n",
              "            '<a target=\"_blank\" href=https://colab.research.google.com/notebooks/data_table.ipynb>data table notebook</a>'\n",
              "            + ' to learn more about interactive tables.';\n",
              "          element.innerHTML = '';\n",
              "          dataTable['output_type'] = 'display_data';\n",
              "          await google.colab.output.renderOutput(dataTable, element);\n",
              "          const docLink = document.createElement('div');\n",
              "          docLink.innerHTML = docLinkHtml;\n",
              "          element.appendChild(docLink);\n",
              "        }\n",
              "      </script>\n",
              "    </div>\n",
              "  </div>\n",
              "  "
            ]
          },
          "metadata": {},
          "execution_count": 2
        }
      ]
    },
    {
      "cell_type": "code",
      "source": [
        "df.shape"
      ],
      "metadata": {
        "colab": {
          "base_uri": "https://localhost:8080/"
        },
        "id": "O0M1fO9X1MJm",
        "outputId": "776543f7-8685-4c45-a8da-b07eacf0198c"
      },
      "execution_count": 3,
      "outputs": [
        {
          "output_type": "execute_result",
          "data": {
            "text/plain": [
              "(7109, 22)"
            ]
          },
          "metadata": {},
          "execution_count": 3
        }
      ]
    },
    {
      "cell_type": "code",
      "source": [
        "df.describe()"
      ],
      "metadata": {
        "colab": {
          "base_uri": "https://localhost:8080/",
          "height": 364
        },
        "id": "4DURc53F1RXR",
        "outputId": "fb30b6e3-320a-4c49-9e30-429799da0dfb"
      },
      "execution_count": 4,
      "outputs": [
        {
          "output_type": "execute_result",
          "data": {
            "text/plain": [
              "          INT_SQFT  DIST_MAINROAD    N_BEDROOM   N_BATHROOM       N_ROOM  \\\n",
              "count  7109.000000    7109.000000  7108.000000  7104.000000  7109.000000   \n",
              "mean   1382.073006      99.603179     1.637029     1.213260     3.688704   \n",
              "std     457.410902      57.403110     0.802902     0.409639     1.019099   \n",
              "min     500.000000       0.000000     1.000000     1.000000     2.000000   \n",
              "25%     993.000000      50.000000     1.000000     1.000000     3.000000   \n",
              "50%    1373.000000      99.000000     1.000000     1.000000     4.000000   \n",
              "75%    1744.000000     148.000000     2.000000     1.000000     4.000000   \n",
              "max    2500.000000     200.000000     4.000000     2.000000     6.000000   \n",
              "\n",
              "          QS_ROOMS  QS_BATHROOM   QS_BEDROOM   QS_OVERALL        REG_FEE  \\\n",
              "count  7109.000000  7109.000000  7109.000000  7061.000000    7109.000000   \n",
              "mean      3.517471     3.507244     3.485300     3.503254  376938.330708   \n",
              "std       0.891972     0.897834     0.887266     0.527223  143070.662010   \n",
              "min       2.000000     2.000000     2.000000     2.000000   71177.000000   \n",
              "25%       2.700000     2.700000     2.700000     3.130000  272406.000000   \n",
              "50%       3.500000     3.500000     3.500000     3.500000  349486.000000   \n",
              "75%       4.300000     4.300000     4.300000     3.890000  451562.000000   \n",
              "max       5.000000     5.000000     5.000000     4.970000  983922.000000   \n",
              "\n",
              "              COMMIS   SALES_PRICE  \n",
              "count    7109.000000  7.109000e+03  \n",
              "mean   141005.726544  1.089491e+07  \n",
              "std     78768.093718  3.768603e+06  \n",
              "min      5055.000000  2.156875e+06  \n",
              "25%     84219.000000  8.272100e+06  \n",
              "50%    127628.000000  1.033505e+07  \n",
              "75%    184506.000000  1.299390e+07  \n",
              "max    495405.000000  2.366734e+07  "
            ],
            "text/html": [
              "\n",
              "  <div id=\"df-f72b6427-2d4c-47b1-ae43-6da88df975f3\">\n",
              "    <div class=\"colab-df-container\">\n",
              "      <div>\n",
              "<style scoped>\n",
              "    .dataframe tbody tr th:only-of-type {\n",
              "        vertical-align: middle;\n",
              "    }\n",
              "\n",
              "    .dataframe tbody tr th {\n",
              "        vertical-align: top;\n",
              "    }\n",
              "\n",
              "    .dataframe thead th {\n",
              "        text-align: right;\n",
              "    }\n",
              "</style>\n",
              "<table border=\"1\" class=\"dataframe\">\n",
              "  <thead>\n",
              "    <tr style=\"text-align: right;\">\n",
              "      <th></th>\n",
              "      <th>INT_SQFT</th>\n",
              "      <th>DIST_MAINROAD</th>\n",
              "      <th>N_BEDROOM</th>\n",
              "      <th>N_BATHROOM</th>\n",
              "      <th>N_ROOM</th>\n",
              "      <th>QS_ROOMS</th>\n",
              "      <th>QS_BATHROOM</th>\n",
              "      <th>QS_BEDROOM</th>\n",
              "      <th>QS_OVERALL</th>\n",
              "      <th>REG_FEE</th>\n",
              "      <th>COMMIS</th>\n",
              "      <th>SALES_PRICE</th>\n",
              "    </tr>\n",
              "  </thead>\n",
              "  <tbody>\n",
              "    <tr>\n",
              "      <th>count</th>\n",
              "      <td>7109.000000</td>\n",
              "      <td>7109.000000</td>\n",
              "      <td>7108.000000</td>\n",
              "      <td>7104.000000</td>\n",
              "      <td>7109.000000</td>\n",
              "      <td>7109.000000</td>\n",
              "      <td>7109.000000</td>\n",
              "      <td>7109.000000</td>\n",
              "      <td>7061.000000</td>\n",
              "      <td>7109.000000</td>\n",
              "      <td>7109.000000</td>\n",
              "      <td>7.109000e+03</td>\n",
              "    </tr>\n",
              "    <tr>\n",
              "      <th>mean</th>\n",
              "      <td>1382.073006</td>\n",
              "      <td>99.603179</td>\n",
              "      <td>1.637029</td>\n",
              "      <td>1.213260</td>\n",
              "      <td>3.688704</td>\n",
              "      <td>3.517471</td>\n",
              "      <td>3.507244</td>\n",
              "      <td>3.485300</td>\n",
              "      <td>3.503254</td>\n",
              "      <td>376938.330708</td>\n",
              "      <td>141005.726544</td>\n",
              "      <td>1.089491e+07</td>\n",
              "    </tr>\n",
              "    <tr>\n",
              "      <th>std</th>\n",
              "      <td>457.410902</td>\n",
              "      <td>57.403110</td>\n",
              "      <td>0.802902</td>\n",
              "      <td>0.409639</td>\n",
              "      <td>1.019099</td>\n",
              "      <td>0.891972</td>\n",
              "      <td>0.897834</td>\n",
              "      <td>0.887266</td>\n",
              "      <td>0.527223</td>\n",
              "      <td>143070.662010</td>\n",
              "      <td>78768.093718</td>\n",
              "      <td>3.768603e+06</td>\n",
              "    </tr>\n",
              "    <tr>\n",
              "      <th>min</th>\n",
              "      <td>500.000000</td>\n",
              "      <td>0.000000</td>\n",
              "      <td>1.000000</td>\n",
              "      <td>1.000000</td>\n",
              "      <td>2.000000</td>\n",
              "      <td>2.000000</td>\n",
              "      <td>2.000000</td>\n",
              "      <td>2.000000</td>\n",
              "      <td>2.000000</td>\n",
              "      <td>71177.000000</td>\n",
              "      <td>5055.000000</td>\n",
              "      <td>2.156875e+06</td>\n",
              "    </tr>\n",
              "    <tr>\n",
              "      <th>25%</th>\n",
              "      <td>993.000000</td>\n",
              "      <td>50.000000</td>\n",
              "      <td>1.000000</td>\n",
              "      <td>1.000000</td>\n",
              "      <td>3.000000</td>\n",
              "      <td>2.700000</td>\n",
              "      <td>2.700000</td>\n",
              "      <td>2.700000</td>\n",
              "      <td>3.130000</td>\n",
              "      <td>272406.000000</td>\n",
              "      <td>84219.000000</td>\n",
              "      <td>8.272100e+06</td>\n",
              "    </tr>\n",
              "    <tr>\n",
              "      <th>50%</th>\n",
              "      <td>1373.000000</td>\n",
              "      <td>99.000000</td>\n",
              "      <td>1.000000</td>\n",
              "      <td>1.000000</td>\n",
              "      <td>4.000000</td>\n",
              "      <td>3.500000</td>\n",
              "      <td>3.500000</td>\n",
              "      <td>3.500000</td>\n",
              "      <td>3.500000</td>\n",
              "      <td>349486.000000</td>\n",
              "      <td>127628.000000</td>\n",
              "      <td>1.033505e+07</td>\n",
              "    </tr>\n",
              "    <tr>\n",
              "      <th>75%</th>\n",
              "      <td>1744.000000</td>\n",
              "      <td>148.000000</td>\n",
              "      <td>2.000000</td>\n",
              "      <td>1.000000</td>\n",
              "      <td>4.000000</td>\n",
              "      <td>4.300000</td>\n",
              "      <td>4.300000</td>\n",
              "      <td>4.300000</td>\n",
              "      <td>3.890000</td>\n",
              "      <td>451562.000000</td>\n",
              "      <td>184506.000000</td>\n",
              "      <td>1.299390e+07</td>\n",
              "    </tr>\n",
              "    <tr>\n",
              "      <th>max</th>\n",
              "      <td>2500.000000</td>\n",
              "      <td>200.000000</td>\n",
              "      <td>4.000000</td>\n",
              "      <td>2.000000</td>\n",
              "      <td>6.000000</td>\n",
              "      <td>5.000000</td>\n",
              "      <td>5.000000</td>\n",
              "      <td>5.000000</td>\n",
              "      <td>4.970000</td>\n",
              "      <td>983922.000000</td>\n",
              "      <td>495405.000000</td>\n",
              "      <td>2.366734e+07</td>\n",
              "    </tr>\n",
              "  </tbody>\n",
              "</table>\n",
              "</div>\n",
              "      <button class=\"colab-df-convert\" onclick=\"convertToInteractive('df-f72b6427-2d4c-47b1-ae43-6da88df975f3')\"\n",
              "              title=\"Convert this dataframe to an interactive table.\"\n",
              "              style=\"display:none;\">\n",
              "        \n",
              "  <svg xmlns=\"http://www.w3.org/2000/svg\" height=\"24px\"viewBox=\"0 0 24 24\"\n",
              "       width=\"24px\">\n",
              "    <path d=\"M0 0h24v24H0V0z\" fill=\"none\"/>\n",
              "    <path d=\"M18.56 5.44l.94 2.06.94-2.06 2.06-.94-2.06-.94-.94-2.06-.94 2.06-2.06.94zm-11 1L8.5 8.5l.94-2.06 2.06-.94-2.06-.94L8.5 2.5l-.94 2.06-2.06.94zm10 10l.94 2.06.94-2.06 2.06-.94-2.06-.94-.94-2.06-.94 2.06-2.06.94z\"/><path d=\"M17.41 7.96l-1.37-1.37c-.4-.4-.92-.59-1.43-.59-.52 0-1.04.2-1.43.59L10.3 9.45l-7.72 7.72c-.78.78-.78 2.05 0 2.83L4 21.41c.39.39.9.59 1.41.59.51 0 1.02-.2 1.41-.59l7.78-7.78 2.81-2.81c.8-.78.8-2.07 0-2.86zM5.41 20L4 18.59l7.72-7.72 1.47 1.35L5.41 20z\"/>\n",
              "  </svg>\n",
              "      </button>\n",
              "      \n",
              "  <style>\n",
              "    .colab-df-container {\n",
              "      display:flex;\n",
              "      flex-wrap:wrap;\n",
              "      gap: 12px;\n",
              "    }\n",
              "\n",
              "    .colab-df-convert {\n",
              "      background-color: #E8F0FE;\n",
              "      border: none;\n",
              "      border-radius: 50%;\n",
              "      cursor: pointer;\n",
              "      display: none;\n",
              "      fill: #1967D2;\n",
              "      height: 32px;\n",
              "      padding: 0 0 0 0;\n",
              "      width: 32px;\n",
              "    }\n",
              "\n",
              "    .colab-df-convert:hover {\n",
              "      background-color: #E2EBFA;\n",
              "      box-shadow: 0px 1px 2px rgba(60, 64, 67, 0.3), 0px 1px 3px 1px rgba(60, 64, 67, 0.15);\n",
              "      fill: #174EA6;\n",
              "    }\n",
              "\n",
              "    [theme=dark] .colab-df-convert {\n",
              "      background-color: #3B4455;\n",
              "      fill: #D2E3FC;\n",
              "    }\n",
              "\n",
              "    [theme=dark] .colab-df-convert:hover {\n",
              "      background-color: #434B5C;\n",
              "      box-shadow: 0px 1px 3px 1px rgba(0, 0, 0, 0.15);\n",
              "      filter: drop-shadow(0px 1px 2px rgba(0, 0, 0, 0.3));\n",
              "      fill: #FFFFFF;\n",
              "    }\n",
              "  </style>\n",
              "\n",
              "      <script>\n",
              "        const buttonEl =\n",
              "          document.querySelector('#df-f72b6427-2d4c-47b1-ae43-6da88df975f3 button.colab-df-convert');\n",
              "        buttonEl.style.display =\n",
              "          google.colab.kernel.accessAllowed ? 'block' : 'none';\n",
              "\n",
              "        async function convertToInteractive(key) {\n",
              "          const element = document.querySelector('#df-f72b6427-2d4c-47b1-ae43-6da88df975f3');\n",
              "          const dataTable =\n",
              "            await google.colab.kernel.invokeFunction('convertToInteractive',\n",
              "                                                     [key], {});\n",
              "          if (!dataTable) return;\n",
              "\n",
              "          const docLinkHtml = 'Like what you see? Visit the ' +\n",
              "            '<a target=\"_blank\" href=https://colab.research.google.com/notebooks/data_table.ipynb>data table notebook</a>'\n",
              "            + ' to learn more about interactive tables.';\n",
              "          element.innerHTML = '';\n",
              "          dataTable['output_type'] = 'display_data';\n",
              "          await google.colab.output.renderOutput(dataTable, element);\n",
              "          const docLink = document.createElement('div');\n",
              "          docLink.innerHTML = docLinkHtml;\n",
              "          element.appendChild(docLink);\n",
              "        }\n",
              "      </script>\n",
              "    </div>\n",
              "  </div>\n",
              "  "
            ]
          },
          "metadata": {},
          "execution_count": 4
        }
      ]
    },
    {
      "cell_type": "code",
      "source": [
        "df.dtypes"
      ],
      "metadata": {
        "colab": {
          "base_uri": "https://localhost:8080/"
        },
        "id": "WfRIEisN1Ucg",
        "outputId": "3c024865-9bab-4cb6-fa7a-32e5bc0b94a2"
      },
      "execution_count": 5,
      "outputs": [
        {
          "output_type": "execute_result",
          "data": {
            "text/plain": [
              "PRT_ID            object\n",
              "AREA              object\n",
              "INT_SQFT           int64\n",
              "DATE_SALE         object\n",
              "DIST_MAINROAD      int64\n",
              "N_BEDROOM        float64\n",
              "N_BATHROOM       float64\n",
              "N_ROOM             int64\n",
              "SALE_COND         object\n",
              "PARK_FACIL        object\n",
              "DATE_BUILD        object\n",
              "BUILDTYPE         object\n",
              "UTILITY_AVAIL     object\n",
              "STREET            object\n",
              "MZZONE            object\n",
              "QS_ROOMS         float64\n",
              "QS_BATHROOM      float64\n",
              "QS_BEDROOM       float64\n",
              "QS_OVERALL       float64\n",
              "REG_FEE            int64\n",
              "COMMIS             int64\n",
              "SALES_PRICE        int64\n",
              "dtype: object"
            ]
          },
          "metadata": {},
          "execution_count": 5
        }
      ]
    },
    {
      "cell_type": "code",
      "source": [
        "df.drop_duplicates(inplace=True)"
      ],
      "metadata": {
        "id": "OSmDqG3me4ap"
      },
      "execution_count": 6,
      "outputs": []
    },
    {
      "cell_type": "code",
      "source": [
        "# dropping the column not required\n",
        "df.drop('PRT_ID',axis=1,inplace=True)"
      ],
      "metadata": {
        "id": "_N8ZriK51pUq"
      },
      "execution_count": 7,
      "outputs": []
    },
    {
      "cell_type": "code",
      "source": [
        "df['AGE'] = pd.to_datetime(df['DATE_SALE']) - pd.to_datetime(df['DATE_BUILD'])\n",
        "df['AGE'] = df['AGE'].dt.days\n",
        "df.drop(['DATE_SALE','DATE_BUILD'],axis=1,inplace=True)\n",
        "df.head()"
      ],
      "metadata": {
        "colab": {
          "base_uri": "https://localhost:8080/",
          "height": 270
        },
        "id": "aihS5rDY5es9",
        "outputId": "0f9724c9-b2ec-4f4c-81bc-2998b29fd38c"
      },
      "execution_count": 8,
      "outputs": [
        {
          "output_type": "execute_result",
          "data": {
            "text/plain": [
              "         AREA  INT_SQFT  DIST_MAINROAD  N_BEDROOM  N_BATHROOM  N_ROOM  \\\n",
              "0  Karapakkam      1004            131        1.0         1.0       3   \n",
              "1  Anna Nagar      1986             26        2.0         1.0       5   \n",
              "2       Adyar       909             70        1.0         1.0       3   \n",
              "3   Velachery      1855             14        3.0         2.0       5   \n",
              "4  Karapakkam      1226             84        1.0         1.0       3   \n",
              "\n",
              "  SALE_COND PARK_FACIL   BUILDTYPE UTILITY_AVAIL  STREET MZZONE  QS_ROOMS  \\\n",
              "0  AbNormal        Yes  Commercial        AllPub   Paved      A       4.0   \n",
              "1  AbNormal         No  Commercial        AllPub  Gravel     RH       4.9   \n",
              "2  AbNormal        Yes  Commercial           ELO  Gravel     RL       4.1   \n",
              "3    Family         No      Others       NoSewr    Paved      I       4.7   \n",
              "4  AbNormal        Yes      Others        AllPub  Gravel      C       3.0   \n",
              "\n",
              "   QS_BATHROOM  QS_BEDROOM  QS_OVERALL  REG_FEE  COMMIS  SALES_PRICE    AGE  \n",
              "0          3.9         4.9       4.330   380000  144400      7600000  16031  \n",
              "1          4.2         2.5       3.765   760122  304049     21717770   4015  \n",
              "2          3.8         2.2       3.090   421094   92114     13159200   7152  \n",
              "3          3.9         3.6       4.010   356321   77042      9630290   8030  \n",
              "4          2.5         4.1       3.290   237000   74063      7406250  10802  "
            ],
            "text/html": [
              "\n",
              "  <div id=\"df-b3ccb739-dc2e-41bb-ab49-143e677b901e\">\n",
              "    <div class=\"colab-df-container\">\n",
              "      <div>\n",
              "<style scoped>\n",
              "    .dataframe tbody tr th:only-of-type {\n",
              "        vertical-align: middle;\n",
              "    }\n",
              "\n",
              "    .dataframe tbody tr th {\n",
              "        vertical-align: top;\n",
              "    }\n",
              "\n",
              "    .dataframe thead th {\n",
              "        text-align: right;\n",
              "    }\n",
              "</style>\n",
              "<table border=\"1\" class=\"dataframe\">\n",
              "  <thead>\n",
              "    <tr style=\"text-align: right;\">\n",
              "      <th></th>\n",
              "      <th>AREA</th>\n",
              "      <th>INT_SQFT</th>\n",
              "      <th>DIST_MAINROAD</th>\n",
              "      <th>N_BEDROOM</th>\n",
              "      <th>N_BATHROOM</th>\n",
              "      <th>N_ROOM</th>\n",
              "      <th>SALE_COND</th>\n",
              "      <th>PARK_FACIL</th>\n",
              "      <th>BUILDTYPE</th>\n",
              "      <th>UTILITY_AVAIL</th>\n",
              "      <th>STREET</th>\n",
              "      <th>MZZONE</th>\n",
              "      <th>QS_ROOMS</th>\n",
              "      <th>QS_BATHROOM</th>\n",
              "      <th>QS_BEDROOM</th>\n",
              "      <th>QS_OVERALL</th>\n",
              "      <th>REG_FEE</th>\n",
              "      <th>COMMIS</th>\n",
              "      <th>SALES_PRICE</th>\n",
              "      <th>AGE</th>\n",
              "    </tr>\n",
              "  </thead>\n",
              "  <tbody>\n",
              "    <tr>\n",
              "      <th>0</th>\n",
              "      <td>Karapakkam</td>\n",
              "      <td>1004</td>\n",
              "      <td>131</td>\n",
              "      <td>1.0</td>\n",
              "      <td>1.0</td>\n",
              "      <td>3</td>\n",
              "      <td>AbNormal</td>\n",
              "      <td>Yes</td>\n",
              "      <td>Commercial</td>\n",
              "      <td>AllPub</td>\n",
              "      <td>Paved</td>\n",
              "      <td>A</td>\n",
              "      <td>4.0</td>\n",
              "      <td>3.9</td>\n",
              "      <td>4.9</td>\n",
              "      <td>4.330</td>\n",
              "      <td>380000</td>\n",
              "      <td>144400</td>\n",
              "      <td>7600000</td>\n",
              "      <td>16031</td>\n",
              "    </tr>\n",
              "    <tr>\n",
              "      <th>1</th>\n",
              "      <td>Anna Nagar</td>\n",
              "      <td>1986</td>\n",
              "      <td>26</td>\n",
              "      <td>2.0</td>\n",
              "      <td>1.0</td>\n",
              "      <td>5</td>\n",
              "      <td>AbNormal</td>\n",
              "      <td>No</td>\n",
              "      <td>Commercial</td>\n",
              "      <td>AllPub</td>\n",
              "      <td>Gravel</td>\n",
              "      <td>RH</td>\n",
              "      <td>4.9</td>\n",
              "      <td>4.2</td>\n",
              "      <td>2.5</td>\n",
              "      <td>3.765</td>\n",
              "      <td>760122</td>\n",
              "      <td>304049</td>\n",
              "      <td>21717770</td>\n",
              "      <td>4015</td>\n",
              "    </tr>\n",
              "    <tr>\n",
              "      <th>2</th>\n",
              "      <td>Adyar</td>\n",
              "      <td>909</td>\n",
              "      <td>70</td>\n",
              "      <td>1.0</td>\n",
              "      <td>1.0</td>\n",
              "      <td>3</td>\n",
              "      <td>AbNormal</td>\n",
              "      <td>Yes</td>\n",
              "      <td>Commercial</td>\n",
              "      <td>ELO</td>\n",
              "      <td>Gravel</td>\n",
              "      <td>RL</td>\n",
              "      <td>4.1</td>\n",
              "      <td>3.8</td>\n",
              "      <td>2.2</td>\n",
              "      <td>3.090</td>\n",
              "      <td>421094</td>\n",
              "      <td>92114</td>\n",
              "      <td>13159200</td>\n",
              "      <td>7152</td>\n",
              "    </tr>\n",
              "    <tr>\n",
              "      <th>3</th>\n",
              "      <td>Velachery</td>\n",
              "      <td>1855</td>\n",
              "      <td>14</td>\n",
              "      <td>3.0</td>\n",
              "      <td>2.0</td>\n",
              "      <td>5</td>\n",
              "      <td>Family</td>\n",
              "      <td>No</td>\n",
              "      <td>Others</td>\n",
              "      <td>NoSewr</td>\n",
              "      <td>Paved</td>\n",
              "      <td>I</td>\n",
              "      <td>4.7</td>\n",
              "      <td>3.9</td>\n",
              "      <td>3.6</td>\n",
              "      <td>4.010</td>\n",
              "      <td>356321</td>\n",
              "      <td>77042</td>\n",
              "      <td>9630290</td>\n",
              "      <td>8030</td>\n",
              "    </tr>\n",
              "    <tr>\n",
              "      <th>4</th>\n",
              "      <td>Karapakkam</td>\n",
              "      <td>1226</td>\n",
              "      <td>84</td>\n",
              "      <td>1.0</td>\n",
              "      <td>1.0</td>\n",
              "      <td>3</td>\n",
              "      <td>AbNormal</td>\n",
              "      <td>Yes</td>\n",
              "      <td>Others</td>\n",
              "      <td>AllPub</td>\n",
              "      <td>Gravel</td>\n",
              "      <td>C</td>\n",
              "      <td>3.0</td>\n",
              "      <td>2.5</td>\n",
              "      <td>4.1</td>\n",
              "      <td>3.290</td>\n",
              "      <td>237000</td>\n",
              "      <td>74063</td>\n",
              "      <td>7406250</td>\n",
              "      <td>10802</td>\n",
              "    </tr>\n",
              "  </tbody>\n",
              "</table>\n",
              "</div>\n",
              "      <button class=\"colab-df-convert\" onclick=\"convertToInteractive('df-b3ccb739-dc2e-41bb-ab49-143e677b901e')\"\n",
              "              title=\"Convert this dataframe to an interactive table.\"\n",
              "              style=\"display:none;\">\n",
              "        \n",
              "  <svg xmlns=\"http://www.w3.org/2000/svg\" height=\"24px\"viewBox=\"0 0 24 24\"\n",
              "       width=\"24px\">\n",
              "    <path d=\"M0 0h24v24H0V0z\" fill=\"none\"/>\n",
              "    <path d=\"M18.56 5.44l.94 2.06.94-2.06 2.06-.94-2.06-.94-.94-2.06-.94 2.06-2.06.94zm-11 1L8.5 8.5l.94-2.06 2.06-.94-2.06-.94L8.5 2.5l-.94 2.06-2.06.94zm10 10l.94 2.06.94-2.06 2.06-.94-2.06-.94-.94-2.06-.94 2.06-2.06.94z\"/><path d=\"M17.41 7.96l-1.37-1.37c-.4-.4-.92-.59-1.43-.59-.52 0-1.04.2-1.43.59L10.3 9.45l-7.72 7.72c-.78.78-.78 2.05 0 2.83L4 21.41c.39.39.9.59 1.41.59.51 0 1.02-.2 1.41-.59l7.78-7.78 2.81-2.81c.8-.78.8-2.07 0-2.86zM5.41 20L4 18.59l7.72-7.72 1.47 1.35L5.41 20z\"/>\n",
              "  </svg>\n",
              "      </button>\n",
              "      \n",
              "  <style>\n",
              "    .colab-df-container {\n",
              "      display:flex;\n",
              "      flex-wrap:wrap;\n",
              "      gap: 12px;\n",
              "    }\n",
              "\n",
              "    .colab-df-convert {\n",
              "      background-color: #E8F0FE;\n",
              "      border: none;\n",
              "      border-radius: 50%;\n",
              "      cursor: pointer;\n",
              "      display: none;\n",
              "      fill: #1967D2;\n",
              "      height: 32px;\n",
              "      padding: 0 0 0 0;\n",
              "      width: 32px;\n",
              "    }\n",
              "\n",
              "    .colab-df-convert:hover {\n",
              "      background-color: #E2EBFA;\n",
              "      box-shadow: 0px 1px 2px rgba(60, 64, 67, 0.3), 0px 1px 3px 1px rgba(60, 64, 67, 0.15);\n",
              "      fill: #174EA6;\n",
              "    }\n",
              "\n",
              "    [theme=dark] .colab-df-convert {\n",
              "      background-color: #3B4455;\n",
              "      fill: #D2E3FC;\n",
              "    }\n",
              "\n",
              "    [theme=dark] .colab-df-convert:hover {\n",
              "      background-color: #434B5C;\n",
              "      box-shadow: 0px 1px 3px 1px rgba(0, 0, 0, 0.15);\n",
              "      filter: drop-shadow(0px 1px 2px rgba(0, 0, 0, 0.3));\n",
              "      fill: #FFFFFF;\n",
              "    }\n",
              "  </style>\n",
              "\n",
              "      <script>\n",
              "        const buttonEl =\n",
              "          document.querySelector('#df-b3ccb739-dc2e-41bb-ab49-143e677b901e button.colab-df-convert');\n",
              "        buttonEl.style.display =\n",
              "          google.colab.kernel.accessAllowed ? 'block' : 'none';\n",
              "\n",
              "        async function convertToInteractive(key) {\n",
              "          const element = document.querySelector('#df-b3ccb739-dc2e-41bb-ab49-143e677b901e');\n",
              "          const dataTable =\n",
              "            await google.colab.kernel.invokeFunction('convertToInteractive',\n",
              "                                                     [key], {});\n",
              "          if (!dataTable) return;\n",
              "\n",
              "          const docLinkHtml = 'Like what you see? Visit the ' +\n",
              "            '<a target=\"_blank\" href=https://colab.research.google.com/notebooks/data_table.ipynb>data table notebook</a>'\n",
              "            + ' to learn more about interactive tables.';\n",
              "          element.innerHTML = '';\n",
              "          dataTable['output_type'] = 'display_data';\n",
              "          await google.colab.output.renderOutput(dataTable, element);\n",
              "          const docLink = document.createElement('div');\n",
              "          docLink.innerHTML = docLinkHtml;\n",
              "          element.appendChild(docLink);\n",
              "        }\n",
              "      </script>\n",
              "    </div>\n",
              "  </div>\n",
              "  "
            ]
          },
          "metadata": {},
          "execution_count": 8
        }
      ]
    },
    {
      "cell_type": "markdown",
      "source": [
        "## Data Cleaning"
      ],
      "metadata": {
        "id": "jTq85IgZfLwZ"
      }
    },
    {
      "cell_type": "code",
      "source": [
        "df.AREA.unique()"
      ],
      "metadata": {
        "colab": {
          "base_uri": "https://localhost:8080/"
        },
        "id": "qw6jjXLD_VVW",
        "outputId": "712992fa-68b0-4b7a-f56c-02a3753a10f2"
      },
      "execution_count": 9,
      "outputs": [
        {
          "output_type": "execute_result",
          "data": {
            "text/plain": [
              "array(['Karapakkam', 'Anna Nagar', 'Adyar', 'Velachery', 'Chrompet',\n",
              "       'KK Nagar', 'TNagar', 'T Nagar', 'Chrompt', 'Chrmpet', 'Karapakam',\n",
              "       'Ana Nagar', 'Chormpet', 'Adyr', 'Velchery', 'Ann Nagar',\n",
              "       'KKNagar'], dtype=object)"
            ]
          },
          "metadata": {},
          "execution_count": 9
        }
      ]
    },
    {
      "cell_type": "code",
      "source": [
        "df['AREA'] = df['AREA'].replace(['TNagar','Chrompt','Chrmpet','Karapakam','Karpakkam','Ana Nagar',\n",
        "                        'Chormpet','Adyr','Velchery','Ann Nagar','KKNagar'],\n",
        "    ['T Nagar','Chrompet','Chrompet','Karapakkam','Karapakkam','Anna Nagar','Chrompet','Adyar','Velachery','Anna Nagar','KK Nagar'])"
      ],
      "metadata": {
        "id": "wSyiv5mp98qJ"
      },
      "execution_count": 10,
      "outputs": []
    },
    {
      "cell_type": "code",
      "source": [
        "df.AREA.unique()"
      ],
      "metadata": {
        "colab": {
          "base_uri": "https://localhost:8080/"
        },
        "id": "n3TmxRY0ElaM",
        "outputId": "4138b56d-5a4c-4194-ef17-cfec479b0a5f"
      },
      "execution_count": 11,
      "outputs": [
        {
          "output_type": "execute_result",
          "data": {
            "text/plain": [
              "array(['Karapakkam', 'Anna Nagar', 'Adyar', 'Velachery', 'Chrompet',\n",
              "       'KK Nagar', 'T Nagar'], dtype=object)"
            ]
          },
          "metadata": {},
          "execution_count": 11
        }
      ]
    },
    {
      "cell_type": "code",
      "source": [
        "df.SALE_COND.unique()"
      ],
      "metadata": {
        "colab": {
          "base_uri": "https://localhost:8080/"
        },
        "id": "aCJ9luWvEnzz",
        "outputId": "d1624ec9-350c-4b3f-862b-14d01b179d2f"
      },
      "execution_count": 12,
      "outputs": [
        {
          "output_type": "execute_result",
          "data": {
            "text/plain": [
              "array(['AbNormal', 'Family', 'Partial', 'AdjLand', 'Normal Sale',\n",
              "       'Ab Normal', 'Partiall', 'Adj Land', 'PartiaLl'], dtype=object)"
            ]
          },
          "metadata": {},
          "execution_count": 12
        }
      ]
    },
    {
      "cell_type": "code",
      "source": [
        "df['SALE_COND'] = df['SALE_COND'].replace(['Ab Normal','Partiall','PartiaLl','Adj Land'],\n",
        "                                      ['AbNormal','Partial','Partial','AdjLand'])"
      ],
      "metadata": {
        "id": "werivtA4Ffxj"
      },
      "execution_count": 13,
      "outputs": []
    },
    {
      "cell_type": "code",
      "source": [
        "df.SALE_COND.unique() "
      ],
      "metadata": {
        "colab": {
          "base_uri": "https://localhost:8080/"
        },
        "id": "7Vk5V9nCG-Yz",
        "outputId": "d12e9e1b-9abe-4764-c2ba-ca87197884c9"
      },
      "execution_count": 14,
      "outputs": [
        {
          "output_type": "execute_result",
          "data": {
            "text/plain": [
              "array(['AbNormal', 'Family', 'Partial', 'AdjLand', 'Normal Sale'],\n",
              "      dtype=object)"
            ]
          },
          "metadata": {},
          "execution_count": 14
        }
      ]
    },
    {
      "cell_type": "code",
      "source": [
        "df.PARK_FACIL.unique()"
      ],
      "metadata": {
        "colab": {
          "base_uri": "https://localhost:8080/"
        },
        "id": "VVqnegL0HCBp",
        "outputId": "fe70a6ad-43c7-497f-8d93-d38f047a4995"
      },
      "execution_count": 15,
      "outputs": [
        {
          "output_type": "execute_result",
          "data": {
            "text/plain": [
              "array(['Yes', 'No', 'Noo'], dtype=object)"
            ]
          },
          "metadata": {},
          "execution_count": 15
        }
      ]
    },
    {
      "cell_type": "code",
      "source": [
        "df['PARK_FACIL'] = df['PARK_FACIL'].map({'Yes':1,'No':0,'Noo':0})\n",
        "df.PARK_FACIL.unique()"
      ],
      "metadata": {
        "colab": {
          "base_uri": "https://localhost:8080/"
        },
        "id": "mweRThKaHjh_",
        "outputId": "f0cfb1c9-3499-4a0e-da78-1444309fd223"
      },
      "execution_count": 16,
      "outputs": [
        {
          "output_type": "execute_result",
          "data": {
            "text/plain": [
              "array([1, 0])"
            ]
          },
          "metadata": {},
          "execution_count": 16
        }
      ]
    },
    {
      "cell_type": "code",
      "source": [
        "df.BUILDTYPE.unique()"
      ],
      "metadata": {
        "colab": {
          "base_uri": "https://localhost:8080/"
        },
        "id": "8V7tQPRpH5xv",
        "outputId": "4dd3b1d1-3382-4e72-e1ad-26eee67e9227"
      },
      "execution_count": 17,
      "outputs": [
        {
          "output_type": "execute_result",
          "data": {
            "text/plain": [
              "array(['Commercial', 'Others', 'Other', 'House', 'Comercial'],\n",
              "      dtype=object)"
            ]
          },
          "metadata": {},
          "execution_count": 17
        }
      ]
    },
    {
      "cell_type": "code",
      "source": [
        "df['BUILDTYPE'] = df['BUILDTYPE'].replace(['Comercial','Other'],['Commercial','Others']) \n",
        "df.BUILDTYPE.unique()                                                           "
      ],
      "metadata": {
        "colab": {
          "base_uri": "https://localhost:8080/"
        },
        "id": "3YsmuHTBIIWF",
        "outputId": "ad94948b-b8ae-4a38-bc1e-7dc500a97e6d"
      },
      "execution_count": 18,
      "outputs": [
        {
          "output_type": "execute_result",
          "data": {
            "text/plain": [
              "array(['Commercial', 'Others', 'House'], dtype=object)"
            ]
          },
          "metadata": {},
          "execution_count": 18
        }
      ]
    },
    {
      "cell_type": "code",
      "source": [
        "df.UTILITY_AVAIL.unique()"
      ],
      "metadata": {
        "colab": {
          "base_uri": "https://localhost:8080/"
        },
        "id": "wJSPkWhoIhqb",
        "outputId": "288d27f9-34ca-4340-b597-80509e85d024"
      },
      "execution_count": 19,
      "outputs": [
        {
          "output_type": "execute_result",
          "data": {
            "text/plain": [
              "array(['AllPub', 'ELO', 'NoSewr ', 'NoSeWa', 'All Pub'], dtype=object)"
            ]
          },
          "metadata": {},
          "execution_count": 19
        }
      ]
    },
    {
      "cell_type": "code",
      "source": [
        "df['UTILITY_AVAIL'] = df['UTILITY_AVAIL'].replace(['All Pub','NoSeWa','NoSewr '],['AllPub','NoSewr','NoSewr'])\n",
        "df.UTILITY_AVAIL.unique()"
      ],
      "metadata": {
        "colab": {
          "base_uri": "https://localhost:8080/"
        },
        "id": "O38bEqTnIrTa",
        "outputId": "ee0b5735-4427-4181-fbff-3a91b107fc51"
      },
      "execution_count": 20,
      "outputs": [
        {
          "output_type": "execute_result",
          "data": {
            "text/plain": [
              "array(['AllPub', 'ELO', 'NoSewr'], dtype=object)"
            ]
          },
          "metadata": {},
          "execution_count": 20
        }
      ]
    },
    {
      "cell_type": "code",
      "source": [
        "df.STREET.unique()"
      ],
      "metadata": {
        "colab": {
          "base_uri": "https://localhost:8080/"
        },
        "id": "QNcME4x4JIyJ",
        "outputId": "0dca1991-91d3-4ff6-b073-297a73444a6e"
      },
      "execution_count": 21,
      "outputs": [
        {
          "output_type": "execute_result",
          "data": {
            "text/plain": [
              "array(['Paved', 'Gravel', 'No Access', 'Pavd', 'NoAccess'], dtype=object)"
            ]
          },
          "metadata": {},
          "execution_count": 21
        }
      ]
    },
    {
      "cell_type": "code",
      "source": [
        "df['STREET'] = df['STREET'].replace(['Pavd','No Access'],['Paved','NoAccess'])\n",
        "df.STREET.unique()"
      ],
      "metadata": {
        "colab": {
          "base_uri": "https://localhost:8080/"
        },
        "id": "HCduBSCpJiu3",
        "outputId": "39c1aaa2-5af0-42ea-82e0-66c8ee37fd64"
      },
      "execution_count": 22,
      "outputs": [
        {
          "output_type": "execute_result",
          "data": {
            "text/plain": [
              "array(['Paved', 'Gravel', 'NoAccess'], dtype=object)"
            ]
          },
          "metadata": {},
          "execution_count": 22
        }
      ]
    },
    {
      "cell_type": "code",
      "source": [
        "df.MZZONE.unique()      "
      ],
      "metadata": {
        "colab": {
          "base_uri": "https://localhost:8080/"
        },
        "id": "mJlUoBFUJ-kl",
        "outputId": "15155fc9-42df-4dda-c6c7-02a0d28c3e83"
      },
      "execution_count": 23,
      "outputs": [
        {
          "output_type": "execute_result",
          "data": {
            "text/plain": [
              "array(['A', 'RH', 'RL', 'I', 'C', 'RM'], dtype=object)"
            ]
          },
          "metadata": {},
          "execution_count": 23
        }
      ]
    },
    {
      "cell_type": "markdown",
      "source": [
        "## Filling the Column with Missing Values "
      ],
      "metadata": {
        "id": "0Qbezd0ahg1f"
      }
    },
    {
      "cell_type": "code",
      "source": [
        "df.N_BATHROOM.unique()     "
      ],
      "metadata": {
        "colab": {
          "base_uri": "https://localhost:8080/"
        },
        "id": "GZdt7wjET-_A",
        "outputId": "a3df094a-513e-4c1a-8b8f-19c5e1aae6e7"
      },
      "execution_count": 24,
      "outputs": [
        {
          "output_type": "execute_result",
          "data": {
            "text/plain": [
              "array([ 1.,  2., nan])"
            ]
          },
          "metadata": {},
          "execution_count": 24
        }
      ]
    },
    {
      "cell_type": "code",
      "source": [
        "df.N_BATHROOM.mode()[0]"
      ],
      "metadata": {
        "colab": {
          "base_uri": "https://localhost:8080/"
        },
        "id": "ZLd9mJ-tVMj-",
        "outputId": "f1ce6967-4242-46a8-de59-8355affb943a"
      },
      "execution_count": 25,
      "outputs": [
        {
          "output_type": "execute_result",
          "data": {
            "text/plain": [
              "1.0"
            ]
          },
          "metadata": {},
          "execution_count": 25
        }
      ]
    },
    {
      "cell_type": "code",
      "source": [
        "df.N_BATHROOM.value_counts()"
      ],
      "metadata": {
        "colab": {
          "base_uri": "https://localhost:8080/"
        },
        "id": "UtZxd-7OUODl",
        "outputId": "c511a8a2-e120-41fe-c280-696eb9855187"
      },
      "execution_count": 26,
      "outputs": [
        {
          "output_type": "execute_result",
          "data": {
            "text/plain": [
              "1.0    5589\n",
              "2.0    1515\n",
              "Name: N_BATHROOM, dtype: int64"
            ]
          },
          "metadata": {},
          "execution_count": 26
        }
      ]
    },
    {
      "cell_type": "code",
      "source": [
        "df.N_BATHROOM.fillna(df.N_BATHROOM.mode()[0],inplace=True)"
      ],
      "metadata": {
        "id": "7i7ZFAynUe3W"
      },
      "execution_count": 27,
      "outputs": []
    },
    {
      "cell_type": "code",
      "source": [
        "df.N_BATHROOM = df.N_BATHROOM.astype(int)"
      ],
      "metadata": {
        "id": "k0jxnajuuZvC"
      },
      "execution_count": 28,
      "outputs": []
    },
    {
      "cell_type": "code",
      "source": [
        "df.N_BEDROOM.unique()"
      ],
      "metadata": {
        "colab": {
          "base_uri": "https://localhost:8080/"
        },
        "id": "Ius8fMf-UE1I",
        "outputId": "54727706-7de8-4f49-ebb1-cc4eba431414"
      },
      "execution_count": 29,
      "outputs": [
        {
          "output_type": "execute_result",
          "data": {
            "text/plain": [
              "array([ 1.,  2.,  3.,  4., nan])"
            ]
          },
          "metadata": {},
          "execution_count": 29
        }
      ]
    },
    {
      "cell_type": "code",
      "source": [
        "df.N_BEDROOM.value_counts() "
      ],
      "metadata": {
        "colab": {
          "base_uri": "https://localhost:8080/"
        },
        "id": "zrYpxqaKUVot",
        "outputId": "8962a485-8090-488f-cede-9872379fa86e"
      },
      "execution_count": 30,
      "outputs": [
        {
          "output_type": "execute_result",
          "data": {
            "text/plain": [
              "1.0    3795\n",
              "2.0    2352\n",
              "3.0     707\n",
              "4.0     254\n",
              "Name: N_BEDROOM, dtype: int64"
            ]
          },
          "metadata": {},
          "execution_count": 30
        }
      ]
    },
    {
      "cell_type": "code",
      "source": [
        "df.N_BEDROOM.mode()[0]"
      ],
      "metadata": {
        "colab": {
          "base_uri": "https://localhost:8080/"
        },
        "id": "vRIefctqVrt4",
        "outputId": "403dd9c0-5604-4a6f-e439-c4b4d54b4120"
      },
      "execution_count": 31,
      "outputs": [
        {
          "output_type": "execute_result",
          "data": {
            "text/plain": [
              "1.0"
            ]
          },
          "metadata": {},
          "execution_count": 31
        }
      ]
    },
    {
      "cell_type": "code",
      "source": [
        "df.N_BEDROOM.fillna(df.N_BEDROOM.mode()[0],inplace=True)"
      ],
      "metadata": {
        "id": "LP3QT28LVyHr"
      },
      "execution_count": 32,
      "outputs": []
    },
    {
      "cell_type": "code",
      "source": [
        "df.N_BEDROOM = df.N_BEDROOM.astype(int)"
      ],
      "metadata": {
        "id": "dy5j4fxZt5CN"
      },
      "execution_count": 33,
      "outputs": []
    },
    {
      "cell_type": "code",
      "source": [
        "df.QS_OVERALL.fillna(df.QS_OVERALL.mean(),inplace=True) "
      ],
      "metadata": {
        "id": "rU2mZQujWB0Y"
      },
      "execution_count": 34,
      "outputs": []
    },
    {
      "cell_type": "code",
      "source": [
        "df.head()"
      ],
      "metadata": {
        "colab": {
          "base_uri": "https://localhost:8080/",
          "height": 270
        },
        "id": "zb91vTCGKNGO",
        "outputId": "1582ca3a-ebbd-45cc-bca1-fcf0269cebd5"
      },
      "execution_count": 35,
      "outputs": [
        {
          "output_type": "execute_result",
          "data": {
            "text/plain": [
              "         AREA  INT_SQFT  DIST_MAINROAD  N_BEDROOM  N_BATHROOM  N_ROOM  \\\n",
              "0  Karapakkam      1004            131          1           1       3   \n",
              "1  Anna Nagar      1986             26          2           1       5   \n",
              "2       Adyar       909             70          1           1       3   \n",
              "3   Velachery      1855             14          3           2       5   \n",
              "4  Karapakkam      1226             84          1           1       3   \n",
              "\n",
              "  SALE_COND  PARK_FACIL   BUILDTYPE UTILITY_AVAIL  STREET MZZONE  QS_ROOMS  \\\n",
              "0  AbNormal           1  Commercial        AllPub   Paved      A       4.0   \n",
              "1  AbNormal           0  Commercial        AllPub  Gravel     RH       4.9   \n",
              "2  AbNormal           1  Commercial           ELO  Gravel     RL       4.1   \n",
              "3    Family           0      Others        NoSewr   Paved      I       4.7   \n",
              "4  AbNormal           1      Others        AllPub  Gravel      C       3.0   \n",
              "\n",
              "   QS_BATHROOM  QS_BEDROOM  QS_OVERALL  REG_FEE  COMMIS  SALES_PRICE    AGE  \n",
              "0          3.9         4.9       4.330   380000  144400      7600000  16031  \n",
              "1          4.2         2.5       3.765   760122  304049     21717770   4015  \n",
              "2          3.8         2.2       3.090   421094   92114     13159200   7152  \n",
              "3          3.9         3.6       4.010   356321   77042      9630290   8030  \n",
              "4          2.5         4.1       3.290   237000   74063      7406250  10802  "
            ],
            "text/html": [
              "\n",
              "  <div id=\"df-1e6a6220-435d-444d-ba40-558ab91602d0\">\n",
              "    <div class=\"colab-df-container\">\n",
              "      <div>\n",
              "<style scoped>\n",
              "    .dataframe tbody tr th:only-of-type {\n",
              "        vertical-align: middle;\n",
              "    }\n",
              "\n",
              "    .dataframe tbody tr th {\n",
              "        vertical-align: top;\n",
              "    }\n",
              "\n",
              "    .dataframe thead th {\n",
              "        text-align: right;\n",
              "    }\n",
              "</style>\n",
              "<table border=\"1\" class=\"dataframe\">\n",
              "  <thead>\n",
              "    <tr style=\"text-align: right;\">\n",
              "      <th></th>\n",
              "      <th>AREA</th>\n",
              "      <th>INT_SQFT</th>\n",
              "      <th>DIST_MAINROAD</th>\n",
              "      <th>N_BEDROOM</th>\n",
              "      <th>N_BATHROOM</th>\n",
              "      <th>N_ROOM</th>\n",
              "      <th>SALE_COND</th>\n",
              "      <th>PARK_FACIL</th>\n",
              "      <th>BUILDTYPE</th>\n",
              "      <th>UTILITY_AVAIL</th>\n",
              "      <th>STREET</th>\n",
              "      <th>MZZONE</th>\n",
              "      <th>QS_ROOMS</th>\n",
              "      <th>QS_BATHROOM</th>\n",
              "      <th>QS_BEDROOM</th>\n",
              "      <th>QS_OVERALL</th>\n",
              "      <th>REG_FEE</th>\n",
              "      <th>COMMIS</th>\n",
              "      <th>SALES_PRICE</th>\n",
              "      <th>AGE</th>\n",
              "    </tr>\n",
              "  </thead>\n",
              "  <tbody>\n",
              "    <tr>\n",
              "      <th>0</th>\n",
              "      <td>Karapakkam</td>\n",
              "      <td>1004</td>\n",
              "      <td>131</td>\n",
              "      <td>1</td>\n",
              "      <td>1</td>\n",
              "      <td>3</td>\n",
              "      <td>AbNormal</td>\n",
              "      <td>1</td>\n",
              "      <td>Commercial</td>\n",
              "      <td>AllPub</td>\n",
              "      <td>Paved</td>\n",
              "      <td>A</td>\n",
              "      <td>4.0</td>\n",
              "      <td>3.9</td>\n",
              "      <td>4.9</td>\n",
              "      <td>4.330</td>\n",
              "      <td>380000</td>\n",
              "      <td>144400</td>\n",
              "      <td>7600000</td>\n",
              "      <td>16031</td>\n",
              "    </tr>\n",
              "    <tr>\n",
              "      <th>1</th>\n",
              "      <td>Anna Nagar</td>\n",
              "      <td>1986</td>\n",
              "      <td>26</td>\n",
              "      <td>2</td>\n",
              "      <td>1</td>\n",
              "      <td>5</td>\n",
              "      <td>AbNormal</td>\n",
              "      <td>0</td>\n",
              "      <td>Commercial</td>\n",
              "      <td>AllPub</td>\n",
              "      <td>Gravel</td>\n",
              "      <td>RH</td>\n",
              "      <td>4.9</td>\n",
              "      <td>4.2</td>\n",
              "      <td>2.5</td>\n",
              "      <td>3.765</td>\n",
              "      <td>760122</td>\n",
              "      <td>304049</td>\n",
              "      <td>21717770</td>\n",
              "      <td>4015</td>\n",
              "    </tr>\n",
              "    <tr>\n",
              "      <th>2</th>\n",
              "      <td>Adyar</td>\n",
              "      <td>909</td>\n",
              "      <td>70</td>\n",
              "      <td>1</td>\n",
              "      <td>1</td>\n",
              "      <td>3</td>\n",
              "      <td>AbNormal</td>\n",
              "      <td>1</td>\n",
              "      <td>Commercial</td>\n",
              "      <td>ELO</td>\n",
              "      <td>Gravel</td>\n",
              "      <td>RL</td>\n",
              "      <td>4.1</td>\n",
              "      <td>3.8</td>\n",
              "      <td>2.2</td>\n",
              "      <td>3.090</td>\n",
              "      <td>421094</td>\n",
              "      <td>92114</td>\n",
              "      <td>13159200</td>\n",
              "      <td>7152</td>\n",
              "    </tr>\n",
              "    <tr>\n",
              "      <th>3</th>\n",
              "      <td>Velachery</td>\n",
              "      <td>1855</td>\n",
              "      <td>14</td>\n",
              "      <td>3</td>\n",
              "      <td>2</td>\n",
              "      <td>5</td>\n",
              "      <td>Family</td>\n",
              "      <td>0</td>\n",
              "      <td>Others</td>\n",
              "      <td>NoSewr</td>\n",
              "      <td>Paved</td>\n",
              "      <td>I</td>\n",
              "      <td>4.7</td>\n",
              "      <td>3.9</td>\n",
              "      <td>3.6</td>\n",
              "      <td>4.010</td>\n",
              "      <td>356321</td>\n",
              "      <td>77042</td>\n",
              "      <td>9630290</td>\n",
              "      <td>8030</td>\n",
              "    </tr>\n",
              "    <tr>\n",
              "      <th>4</th>\n",
              "      <td>Karapakkam</td>\n",
              "      <td>1226</td>\n",
              "      <td>84</td>\n",
              "      <td>1</td>\n",
              "      <td>1</td>\n",
              "      <td>3</td>\n",
              "      <td>AbNormal</td>\n",
              "      <td>1</td>\n",
              "      <td>Others</td>\n",
              "      <td>AllPub</td>\n",
              "      <td>Gravel</td>\n",
              "      <td>C</td>\n",
              "      <td>3.0</td>\n",
              "      <td>2.5</td>\n",
              "      <td>4.1</td>\n",
              "      <td>3.290</td>\n",
              "      <td>237000</td>\n",
              "      <td>74063</td>\n",
              "      <td>7406250</td>\n",
              "      <td>10802</td>\n",
              "    </tr>\n",
              "  </tbody>\n",
              "</table>\n",
              "</div>\n",
              "      <button class=\"colab-df-convert\" onclick=\"convertToInteractive('df-1e6a6220-435d-444d-ba40-558ab91602d0')\"\n",
              "              title=\"Convert this dataframe to an interactive table.\"\n",
              "              style=\"display:none;\">\n",
              "        \n",
              "  <svg xmlns=\"http://www.w3.org/2000/svg\" height=\"24px\"viewBox=\"0 0 24 24\"\n",
              "       width=\"24px\">\n",
              "    <path d=\"M0 0h24v24H0V0z\" fill=\"none\"/>\n",
              "    <path d=\"M18.56 5.44l.94 2.06.94-2.06 2.06-.94-2.06-.94-.94-2.06-.94 2.06-2.06.94zm-11 1L8.5 8.5l.94-2.06 2.06-.94-2.06-.94L8.5 2.5l-.94 2.06-2.06.94zm10 10l.94 2.06.94-2.06 2.06-.94-2.06-.94-.94-2.06-.94 2.06-2.06.94z\"/><path d=\"M17.41 7.96l-1.37-1.37c-.4-.4-.92-.59-1.43-.59-.52 0-1.04.2-1.43.59L10.3 9.45l-7.72 7.72c-.78.78-.78 2.05 0 2.83L4 21.41c.39.39.9.59 1.41.59.51 0 1.02-.2 1.41-.59l7.78-7.78 2.81-2.81c.8-.78.8-2.07 0-2.86zM5.41 20L4 18.59l7.72-7.72 1.47 1.35L5.41 20z\"/>\n",
              "  </svg>\n",
              "      </button>\n",
              "      \n",
              "  <style>\n",
              "    .colab-df-container {\n",
              "      display:flex;\n",
              "      flex-wrap:wrap;\n",
              "      gap: 12px;\n",
              "    }\n",
              "\n",
              "    .colab-df-convert {\n",
              "      background-color: #E8F0FE;\n",
              "      border: none;\n",
              "      border-radius: 50%;\n",
              "      cursor: pointer;\n",
              "      display: none;\n",
              "      fill: #1967D2;\n",
              "      height: 32px;\n",
              "      padding: 0 0 0 0;\n",
              "      width: 32px;\n",
              "    }\n",
              "\n",
              "    .colab-df-convert:hover {\n",
              "      background-color: #E2EBFA;\n",
              "      box-shadow: 0px 1px 2px rgba(60, 64, 67, 0.3), 0px 1px 3px 1px rgba(60, 64, 67, 0.15);\n",
              "      fill: #174EA6;\n",
              "    }\n",
              "\n",
              "    [theme=dark] .colab-df-convert {\n",
              "      background-color: #3B4455;\n",
              "      fill: #D2E3FC;\n",
              "    }\n",
              "\n",
              "    [theme=dark] .colab-df-convert:hover {\n",
              "      background-color: #434B5C;\n",
              "      box-shadow: 0px 1px 3px 1px rgba(0, 0, 0, 0.15);\n",
              "      filter: drop-shadow(0px 1px 2px rgba(0, 0, 0, 0.3));\n",
              "      fill: #FFFFFF;\n",
              "    }\n",
              "  </style>\n",
              "\n",
              "      <script>\n",
              "        const buttonEl =\n",
              "          document.querySelector('#df-1e6a6220-435d-444d-ba40-558ab91602d0 button.colab-df-convert');\n",
              "        buttonEl.style.display =\n",
              "          google.colab.kernel.accessAllowed ? 'block' : 'none';\n",
              "\n",
              "        async function convertToInteractive(key) {\n",
              "          const element = document.querySelector('#df-1e6a6220-435d-444d-ba40-558ab91602d0');\n",
              "          const dataTable =\n",
              "            await google.colab.kernel.invokeFunction('convertToInteractive',\n",
              "                                                     [key], {});\n",
              "          if (!dataTable) return;\n",
              "\n",
              "          const docLinkHtml = 'Like what you see? Visit the ' +\n",
              "            '<a target=\"_blank\" href=https://colab.research.google.com/notebooks/data_table.ipynb>data table notebook</a>'\n",
              "            + ' to learn more about interactive tables.';\n",
              "          element.innerHTML = '';\n",
              "          dataTable['output_type'] = 'display_data';\n",
              "          await google.colab.output.renderOutput(dataTable, element);\n",
              "          const docLink = document.createElement('div');\n",
              "          docLink.innerHTML = docLinkHtml;\n",
              "          element.appendChild(docLink);\n",
              "        }\n",
              "      </script>\n",
              "    </div>\n",
              "  </div>\n",
              "  "
            ]
          },
          "metadata": {},
          "execution_count": 35
        }
      ]
    },
    {
      "cell_type": "code",
      "source": [
        "df.columns"
      ],
      "metadata": {
        "colab": {
          "base_uri": "https://localhost:8080/"
        },
        "id": "39_1VXe1U8L-",
        "outputId": "443ac35d-ee7d-41b5-d12c-106e3b6085da"
      },
      "execution_count": 36,
      "outputs": [
        {
          "output_type": "execute_result",
          "data": {
            "text/plain": [
              "Index(['AREA', 'INT_SQFT', 'DIST_MAINROAD', 'N_BEDROOM', 'N_BATHROOM',\n",
              "       'N_ROOM', 'SALE_COND', 'PARK_FACIL', 'BUILDTYPE', 'UTILITY_AVAIL',\n",
              "       'STREET', 'MZZONE', 'QS_ROOMS', 'QS_BATHROOM', 'QS_BEDROOM',\n",
              "       'QS_OVERALL', 'REG_FEE', 'COMMIS', 'SALES_PRICE', 'AGE'],\n",
              "      dtype='object')"
            ]
          },
          "metadata": {},
          "execution_count": 36
        }
      ]
    },
    {
      "cell_type": "code",
      "source": [
        "df.isnull().sum() "
      ],
      "metadata": {
        "colab": {
          "base_uri": "https://localhost:8080/"
        },
        "id": "xDtqsqLwTYXU",
        "outputId": "23cb3eee-9846-4bca-b9c3-fd07973e22a0"
      },
      "execution_count": 37,
      "outputs": [
        {
          "output_type": "execute_result",
          "data": {
            "text/plain": [
              "AREA             0\n",
              "INT_SQFT         0\n",
              "DIST_MAINROAD    0\n",
              "N_BEDROOM        0\n",
              "N_BATHROOM       0\n",
              "N_ROOM           0\n",
              "SALE_COND        0\n",
              "PARK_FACIL       0\n",
              "BUILDTYPE        0\n",
              "UTILITY_AVAIL    0\n",
              "STREET           0\n",
              "MZZONE           0\n",
              "QS_ROOMS         0\n",
              "QS_BATHROOM      0\n",
              "QS_BEDROOM       0\n",
              "QS_OVERALL       0\n",
              "REG_FEE          0\n",
              "COMMIS           0\n",
              "SALES_PRICE      0\n",
              "AGE              0\n",
              "dtype: int64"
            ]
          },
          "metadata": {},
          "execution_count": 37
        }
      ]
    },
    {
      "cell_type": "markdown",
      "source": [
        "##**Exploratory Data Analysis**"
      ],
      "metadata": {
        "id": "wmz4PMaOjWGv"
      }
    },
    {
      "cell_type": "markdown",
      "source": [
        "# Finding Relation between features and Target"
      ],
      "metadata": {
        "id": "klLZlLk5Lgk3"
      }
    },
    {
      "cell_type": "code",
      "source": [
        "import warnings\n",
        "warnings.filterwarnings('ignore')\n",
        "\n",
        "area_order = df.groupby('AREA')['SALES_PRICE'].mean().reset_index().sort_values('SALES_PRICE')['AREA']\n",
        "sns.barplot('AREA','SALES_PRICE', data=df, order = area_order);\n",
        "plt.xticks(rotation=45); "
      ],
      "metadata": {
        "colab": {
          "base_uri": "https://localhost:8080/",
          "height": 331
        },
        "id": "hp9KzjezLcRs",
        "outputId": "48d77368-a5ce-4817-ed5b-58ee91c0f36f"
      },
      "execution_count": 38,
      "outputs": [
        {
          "output_type": "display_data",
          "data": {
            "text/plain": [
              "<Figure size 432x288 with 1 Axes>"
            ],
            "image/png": "[encoded data removed]"
          },
          "metadata": {
            "needs_background": "light"
          }
        }
      ]
    },
    {
      "cell_type": "markdown",
      "source": [
        "There is a linear relationship betweeen Area and Sales Price.\n",
        "\n",
        "'AREA' is an important feature for Sales_price prediction "
      ],
      "metadata": {
        "id": "jhItRt1hlhro"
      }
    },
    {
      "cell_type": "code",
      "source": [
        "sale_cond_order = df.groupby('SALE_COND')['SALES_PRICE'].mean().reset_index().sort_values('SALES_PRICE')['SALE_COND']\n",
        "sns.barplot('SALE_COND','SALES_PRICE',data=df, order=sale_cond_order);\n",
        "plt.xticks(rotation = 45);"
      ],
      "metadata": {
        "colab": {
          "base_uri": "https://localhost:8080/",
          "height": 331
        },
        "id": "j7UhQT8WMoth",
        "outputId": "926c3068-8e3b-4a83-c652-008c4d7bcc4e"
      },
      "execution_count": 39,
      "outputs": [
        {
          "output_type": "display_data",
          "data": {
            "text/plain": [
              "<Figure size 432x288 with 1 Axes>"
            ],
            "image/png": "[encoded data removed]"
          },
          "metadata": {
            "needs_background": "light"
          }
        }
      ]
    },
    {
      "cell_type": "markdown",
      "source": [
        "We can see there is no affect of Sales_Condition on Sales_Price of the House"
      ],
      "metadata": {
        "id": "K6DytdeHmFaY"
      }
    },
    {
      "cell_type": "code",
      "source": [
        "sns.barplot('PARK_FACIL','SALES_PRICE',data=df);"
      ],
      "metadata": {
        "colab": {
          "base_uri": "https://localhost:8080/",
          "height": 291
        },
        "id": "snVOf-tYNJiW",
        "outputId": "6dcea964-3c59-4c52-f596-a9ed7fceb298"
      },
      "execution_count": 40,
      "outputs": [
        {
          "output_type": "display_data",
          "data": {
            "text/plain": [
              "<Figure size 432x288 with 1 Axes>"
            ],
            "image/png": "[encoded data removed]"
          },
          "metadata": {
            "needs_background": "light"
          }
        }
      ]
    },
    {
      "cell_type": "code",
      "source": [
        "sns.barplot('BUILDTYPE','SALES_PRICE',data=df); "
      ],
      "metadata": {
        "colab": {
          "base_uri": "https://localhost:8080/",
          "height": 290
        },
        "id": "_nj-YH0yN0s_",
        "outputId": "1db280d5-6d69-48ba-9986-bb8e4b394d99"
      },
      "execution_count": 41,
      "outputs": [
        {
          "output_type": "display_data",
          "data": {
            "text/plain": [
              "<Figure size 432x288 with 1 Axes>"
            ],
            "image/png": "[encoded data removed]"
          },
          "metadata": {
            "needs_background": "light"
          }
        }
      ]
    },
    {
      "cell_type": "markdown",
      "source": [
        "There is not exact linear trend betwen sales_price and build_type. So while encoding we will do one_hot_encoding here"
      ],
      "metadata": {
        "id": "jFbbjQ_jnq89"
      }
    },
    {
      "cell_type": "code",
      "source": [
        "util_avail_order = df.groupby('UTILITY_AVAIL')['SALES_PRICE'].mean().reset_index().sort_values('SALES_PRICE')['UTILITY_AVAIL']\n",
        "sns.barplot('UTILITY_AVAIL','SALES_PRICE',data=df,order=util_avail_order);"
      ],
      "metadata": {
        "colab": {
          "base_uri": "https://localhost:8080/",
          "height": 291
        },
        "id": "hDFDUIt2QVoe",
        "outputId": "3df8f996-9239-45c2-d2dd-0b52d2832903"
      },
      "execution_count": 42,
      "outputs": [
        {
          "output_type": "display_data",
          "data": {
            "text/plain": [
              "<Figure size 432x288 with 1 Axes>"
            ],
            "image/png": "[encoded data removed]"
          },
          "metadata": {
            "needs_background": "light"
          }
        }
      ]
    },
    {
      "cell_type": "markdown",
      "source": [
        "There is a linear relationship between Utility_AVAILABLITY and Sales_price\n",
        "\n",
        "It is an important feature"
      ],
      "metadata": {
        "id": "cmek9XIRuiPO"
      }
    },
    {
      "cell_type": "code",
      "source": [
        "street_order = df.groupby('STREET')['SALES_PRICE'].mean().reset_index().sort_values('SALES_PRICE')['STREET']\n",
        "sns.barplot('STREET','SALES_PRICE',data=df,order = street_order); "
      ],
      "metadata": {
        "colab": {
          "base_uri": "https://localhost:8080/",
          "height": 290
        },
        "id": "er3qJDhMQnLf",
        "outputId": "07b0ab9b-d31e-4477-f069-b8ddea00cf91"
      },
      "execution_count": 43,
      "outputs": [
        {
          "output_type": "display_data",
          "data": {
            "text/plain": [
              "<Figure size 432x288 with 1 Axes>"
            ],
            "image/png": "[encoded data removed]"
          },
          "metadata": {
            "needs_background": "light"
          }
        }
      ]
    },
    {
      "cell_type": "markdown",
      "source": [
        "There is a linear relationship between STREET and SALES_PRICE\n",
        "\n",
        "It is an important feature to consider"
      ],
      "metadata": {
        "id": "HCOVxLPbuxb-"
      }
    },
    {
      "cell_type": "code",
      "source": [
        "mzzone_order = df.groupby('MZZONE')['SALES_PRICE'].mean().reset_index().sort_values('SALES_PRICE')['MZZONE']\n",
        "sns.barplot('MZZONE','SALES_PRICE',data=df, order=mzzone_order);"
      ],
      "metadata": {
        "colab": {
          "base_uri": "https://localhost:8080/",
          "height": 290
        },
        "id": "urSZHnN8Qua_",
        "outputId": "ffdd2f60-7fea-4a17-9d0b-719ad60cbef7"
      },
      "execution_count": 44,
      "outputs": [
        {
          "output_type": "display_data",
          "data": {
            "text/plain": [
              "<Figure size 432x288 with 1 Axes>"
            ],
            "image/png": "[encoded data removed]"
          },
          "metadata": {
            "needs_background": "light"
          }
        }
      ]
    },
    {
      "cell_type": "markdown",
      "source": [
        "Here 'A', 'C', 'I' are linear and 'RH','RM',RL' are linear.\n",
        "They are piecewise linear.\n",
        "\n",
        "While encoding we can give 0 to A, 1 to C, 2 to I , 4 to RH, 5 RL and 6 to RM"
      ],
      "metadata": {
        "id": "l9wmrmh_oaIj"
      }
    },
    {
      "cell_type": "markdown",
      "source": [
        "## Looking at the Continuous Data Column "
      ],
      "metadata": {
        "id": "XvBLNy8lxOeY"
      }
    },
    {
      "cell_type": "code",
      "source": [
        "sns.distplot(df.INT_SQFT);"
      ],
      "metadata": {
        "colab": {
          "base_uri": "https://localhost:8080/",
          "height": 280
        },
        "id": "i2G5JHzP0CP_",
        "outputId": "3d349b2f-cfd7-4d6c-e789-f9a5f0146feb"
      },
      "execution_count": 45,
      "outputs": [
        {
          "output_type": "display_data",
          "data": {
            "text/plain": [
              "<Figure size 432x288 with 1 Axes>"
            ],
            "image/png": "[encoded data removed]"
          },
          "metadata": {
            "needs_background": "light"
          }
        }
      ]
    },
    {
      "cell_type": "code",
      "source": [
        "sns.regplot(df.INT_SQFT,df.SALES_PRICE,scatter_kws={'color':'orange'},line_kws={'color':'green'});"
      ],
      "metadata": {
        "colab": {
          "base_uri": "https://localhost:8080/",
          "height": 291
        },
        "id": "SUcCFQ1jxNws",
        "outputId": "81535f72-a71e-4d38-e3f0-bd72526b2f08"
      },
      "execution_count": 46,
      "outputs": [
        {
          "output_type": "display_data",
          "data": {
            "text/plain": [
              "<Figure size 432x288 with 1 Axes>"
            ],
            "image/png": "[encoded data removed]"
          },
          "metadata": {
            "needs_background": "light"
          }
        }
      ]
    },
    {
      "cell_type": "markdown",
      "source": [
        "There is a linear trend between Sales_price and INT_SQFT\n",
        "\n",
        "It is an important feature"
      ],
      "metadata": {
        "id": "bzZQfEPD0LAo"
      }
    },
    {
      "cell_type": "code",
      "source": [
        "sns.distplot(df.QS_ROOMS);"
      ],
      "metadata": {
        "colab": {
          "base_uri": "https://localhost:8080/",
          "height": 280
        },
        "id": "LqG1UPKV0pjm",
        "outputId": "c27cbe8f-9cdf-4b3a-fa62-0740d921016e"
      },
      "execution_count": 47,
      "outputs": [
        {
          "output_type": "display_data",
          "data": {
            "text/plain": [
              "<Figure size 432x288 with 1 Axes>"
            ],
            "image/png": "[encoded data removed]"
          },
          "metadata": {
            "needs_background": "light"
          }
        }
      ]
    },
    {
      "cell_type": "code",
      "source": [
        "sns.regplot(df.QS_ROOMS,df.SALES_PRICE,scatter_kws={'color':'orange'},line_kws={'color':'green'});"
      ],
      "metadata": {
        "colab": {
          "base_uri": "https://localhost:8080/",
          "height": 291
        },
        "id": "5GpKYV8_yiyU",
        "outputId": "3000fbf8-7b40-4e11-8c52-564c354b8125"
      },
      "execution_count": 48,
      "outputs": [
        {
          "output_type": "display_data",
          "data": {
            "text/plain": [
              "<Figure size 432x288 with 1 Axes>"
            ],
            "image/png": "[encoded data removed]"
          },
          "metadata": {
            "needs_background": "light"
          }
        }
      ]
    },
    {
      "cell_type": "markdown",
      "source": [
        "There is no relatin between Sales_price and QS_Rooms\n",
        "\n",
        "We will drop this feature\n"
      ],
      "metadata": {
        "id": "71vcUyk20yJH"
      }
    },
    {
      "cell_type": "code",
      "source": [
        "sns.distplot(df.DIST_MAINROAD);"
      ],
      "metadata": {
        "colab": {
          "base_uri": "https://localhost:8080/",
          "height": 281
        },
        "id": "5TqWZ2go1LN2",
        "outputId": "284a17f9-db01-41e8-aa41-d0f577d4bed9"
      },
      "execution_count": 49,
      "outputs": [
        {
          "output_type": "display_data",
          "data": {
            "text/plain": [
              "<Figure size 432x288 with 1 Axes>"
            ],
            "image/png": "[encoded data removed]"
          },
          "metadata": {
            "needs_background": "light"
          }
        }
      ]
    },
    {
      "cell_type": "code",
      "source": [
        "sns.regplot(df.DIST_MAINROAD,df.SALES_PRICE,scatter_kws={'color':'orange'},line_kws={'color':'green'});"
      ],
      "metadata": {
        "colab": {
          "base_uri": "https://localhost:8080/",
          "height": 291
        },
        "id": "eB7kj1Qe1UlQ",
        "outputId": "7e6e040c-3f4a-4403-94d0-ba0d8808d0c7"
      },
      "execution_count": 50,
      "outputs": [
        {
          "output_type": "display_data",
          "data": {
            "text/plain": [
              "<Figure size 432x288 with 1 Axes>"
            ],
            "image/png": "[encoded data removed]"
          },
          "metadata": {
            "needs_background": "light"
          }
        }
      ]
    },
    {
      "cell_type": "markdown",
      "source": [
        "There is not relation between Sales_price and distance from Mainroad\n",
        "\n",
        "We will drop this feature"
      ],
      "metadata": {
        "id": "nG2KZZLk1e_H"
      }
    },
    {
      "cell_type": "code",
      "source": [
        "sns.distplot(df.QS_BATHROOM);"
      ],
      "metadata": {
        "colab": {
          "base_uri": "https://localhost:8080/",
          "height": 280
        },
        "id": "QVZeyQMR1qaQ",
        "outputId": "838a96a4-ee65-4707-b615-b8fa3dd87aed"
      },
      "execution_count": 51,
      "outputs": [
        {
          "output_type": "display_data",
          "data": {
            "text/plain": [
              "<Figure size 432x288 with 1 Axes>"
            ],
            "image/png": "[encoded data removed]"
          },
          "metadata": {
            "needs_background": "light"
          }
        }
      ]
    },
    {
      "cell_type": "code",
      "source": [
        "sns.regplot(df.QS_BATHROOM,df.SALES_PRICE,scatter_kws={'color':'orange'},line_kws={'color':'green'});"
      ],
      "metadata": {
        "colab": {
          "base_uri": "https://localhost:8080/",
          "height": 291
        },
        "id": "wsaWpPUR2GBF",
        "outputId": "63cd89e1-fefe-41fa-e07e-1b4de256b131"
      },
      "execution_count": 52,
      "outputs": [
        {
          "output_type": "display_data",
          "data": {
            "text/plain": [
              "<Figure size 432x288 with 1 Axes>"
            ],
            "image/png": "[encoded data removed]"
          },
          "metadata": {
            "needs_background": "light"
          }
        }
      ]
    },
    {
      "cell_type": "code",
      "source": [
        "sns.distplot(df.QS_BEDROOM);"
      ],
      "metadata": {
        "colab": {
          "base_uri": "https://localhost:8080/",
          "height": 280
        },
        "id": "oAy4aDUc1rbg",
        "outputId": "42f9892f-047f-43b9-bf83-05811579a54b"
      },
      "execution_count": 53,
      "outputs": [
        {
          "output_type": "display_data",
          "data": {
            "text/plain": [
              "<Figure size 432x288 with 1 Axes>"
            ],
            "image/png": "[encoded data removed]"
          },
          "metadata": {
            "needs_background": "light"
          }
        }
      ]
    },
    {
      "cell_type": "code",
      "source": [
        "sns.regplot(df.QS_BEDROOM,df.SALES_PRICE,scatter_kws={'color':'orange'},line_kws={'color':'green'});"
      ],
      "metadata": {
        "colab": {
          "base_uri": "https://localhost:8080/",
          "height": 291
        },
        "id": "b2sBLnLW85pi",
        "outputId": "e0e38f88-de47-4fcb-e3b4-6d9a6152606b"
      },
      "execution_count": 54,
      "outputs": [
        {
          "output_type": "display_data",
          "data": {
            "text/plain": [
              "<Figure size 432x288 with 1 Axes>"
            ],
            "image/png": "[encoded data removed]"
          },
          "metadata": {
            "needs_background": "light"
          }
        }
      ]
    },
    {
      "cell_type": "markdown",
      "source": [
        "This column is not affecting SALES_PRICE.\n",
        "\n",
        "We will drop this Column\n"
      ],
      "metadata": {
        "id": "lWzecY0x9LlP"
      }
    },
    {
      "cell_type": "code",
      "source": [
        "sns.distplot(df.QS_OVERALL);"
      ],
      "metadata": {
        "colab": {
          "base_uri": "https://localhost:8080/",
          "height": 280
        },
        "id": "Sa-4FFrV9gkd",
        "outputId": "06721e6a-a10d-42f5-e267-0155514925e9"
      },
      "execution_count": 55,
      "outputs": [
        {
          "output_type": "display_data",
          "data": {
            "text/plain": [
              "<Figure size 432x288 with 1 Axes>"
            ],
            "image/png": "[encoded data removed]"
          },
          "metadata": {
            "needs_background": "light"
          }
        }
      ]
    },
    {
      "cell_type": "code",
      "source": [
        "sns.regplot(df.QS_OVERALL,df.SALES_PRICE,scatter_kws={'color':'orange'},line_kws={'color':'green'});"
      ],
      "metadata": {
        "colab": {
          "base_uri": "https://localhost:8080/",
          "height": 291
        },
        "id": "XPl8Qtop9kbj",
        "outputId": "93df5b0f-4919-417c-ca99-644de260ddd7"
      },
      "execution_count": 56,
      "outputs": [
        {
          "output_type": "display_data",
          "data": {
            "text/plain": [
              "<Figure size 432x288 with 1 Axes>"
            ],
            "image/png": "[encoded data removed]"
          },
          "metadata": {
            "needs_background": "light"
          }
        }
      ]
    },
    {
      "cell_type": "markdown",
      "source": [
        "There is no relationship between Sales_price and QS_overall \n",
        "\n",
        "We will drop this feature also"
      ],
      "metadata": {
        "id": "uypywDwa-QKk"
      }
    },
    {
      "cell_type": "code",
      "source": [
        "sns.distplot(df.AGE);"
      ],
      "metadata": {
        "colab": {
          "base_uri": "https://localhost:8080/",
          "height": 290
        },
        "id": "kN6GR6nB-dJk",
        "outputId": "00497b4c-283a-4ddb-ddf1-7b8a89a1676c"
      },
      "execution_count": 57,
      "outputs": [
        {
          "output_type": "display_data",
          "data": {
            "text/plain": [
              "<Figure size 432x288 with 1 Axes>"
            ],
            "image/png": "[encoded data removed]"
          },
          "metadata": {
            "needs_background": "light"
          }
        }
      ]
    },
    {
      "cell_type": "code",
      "source": [
        "sns.regplot(df.AGE,df.SALES_PRICE,scatter_kws={'color':'orange'},line_kws={'color':'green'});"
      ],
      "metadata": {
        "colab": {
          "base_uri": "https://localhost:8080/",
          "height": 290
        },
        "id": "eDuOMiXt-D9i",
        "outputId": "4ce27d11-5867-42c2-d8ca-64be2e84bc0b"
      },
      "execution_count": 58,
      "outputs": [
        {
          "output_type": "display_data",
          "data": {
            "text/plain": [
              "<Figure size 432x288 with 1 Axes>"
            ],
            "image/png": "[encoded data removed]"
          },
          "metadata": {
            "needs_background": "light"
          }
        }
      ]
    },
    {
      "cell_type": "markdown",
      "source": [
        "There is a clear trend, as the age is increasing Sales_price is decreasing \n",
        "\n",
        "It is an important feature"
      ],
      "metadata": {
        "id": "hwzf6-d4-lHv"
      }
    },
    {
      "cell_type": "code",
      "source": [
        "sns.distplot(df.COMMIS);"
      ],
      "metadata": {
        "colab": {
          "base_uri": "https://localhost:8080/",
          "height": 290
        },
        "id": "oKIT5z-Z-_Q9",
        "outputId": "7f53cc0f-e894-4dfe-c4e7-229b8a598e19"
      },
      "execution_count": 59,
      "outputs": [
        {
          "output_type": "display_data",
          "data": {
            "text/plain": [
              "<Figure size 432x288 with 1 Axes>"
            ],
            "image/png": "[encoded data removed]"
          },
          "metadata": {
            "needs_background": "light"
          }
        }
      ]
    },
    {
      "cell_type": "code",
      "source": [
        "sns.regplot(df.COMMIS,df.SALES_PRICE,scatter_kws={'color':'orange'},line_kws={'color':'green'});"
      ],
      "metadata": {
        "colab": {
          "base_uri": "https://localhost:8080/",
          "height": 290
        },
        "id": "2nmm7Ugd-Ded",
        "outputId": "aca7cc7b-617a-4382-9c79-5cc323831dc2"
      },
      "execution_count": 60,
      "outputs": [
        {
          "output_type": "display_data",
          "data": {
            "text/plain": [
              "<Figure size 432x288 with 1 Axes>"
            ],
            "image/png": "[encoded data removed]"
          },
          "metadata": {
            "needs_background": "light"
          }
        }
      ]
    },
    {
      "cell_type": "markdown",
      "source": [
        "The Commisssion column is important only after the house is sold.\n",
        "\n",
        "It has no use in predicting the Sales_Price.\n",
        "\n",
        "We will drop this column."
      ],
      "metadata": {
        "id": "GL5N_3Th_W9m"
      }
    },
    {
      "cell_type": "code",
      "source": [
        "sns.distplot(df.REG_FEE);"
      ],
      "metadata": {
        "colab": {
          "base_uri": "https://localhost:8080/",
          "height": 291
        },
        "id": "DgWfp3GkAMS_",
        "outputId": "73ab9122-1696-42a3-ea29-848212752ff7"
      },
      "execution_count": 61,
      "outputs": [
        {
          "output_type": "display_data",
          "data": {
            "text/plain": [
              "<Figure size 432x288 with 1 Axes>"
            ],
            "image/png": "[encoded data removed]"
          },
          "metadata": {
            "needs_background": "light"
          }
        }
      ]
    },
    {
      "cell_type": "code",
      "source": [
        "sns.regplot(df.REG_FEE,df.SALES_PRICE,scatter_kws={'color':'orange'},line_kws={'color':'green'});"
      ],
      "metadata": {
        "colab": {
          "base_uri": "https://localhost:8080/",
          "height": 291
        },
        "id": "wvuNQ00_AL80",
        "outputId": "5a09b5eb-bce3-461b-e45b-ed55a1430226"
      },
      "execution_count": 62,
      "outputs": [
        {
          "output_type": "display_data",
          "data": {
            "text/plain": [
              "<Figure size 432x288 with 1 Axes>"
            ],
            "image/png": "[encoded data removed]"
          },
          "metadata": {
            "needs_background": "light"
          }
        }
      ]
    },
    {
      "cell_type": "markdown",
      "source": [
        "\n",
        "REG-FEE column has no use in predicting the Sales_Price.\n",
        "\n",
        "We will drop this column."
      ],
      "metadata": {
        "id": "PH1ghRlEA_hX"
      }
    },
    {
      "cell_type": "markdown",
      "source": [
        "# Insights from EDA\n",
        "\n",
        "  1. 'AREA','INT_SQFT', 'N_BEDROOM','N_BATHROOM','N_ROOM', \n",
        "  , 'PARK_FACIL', 'BUILDTYPE', 'UTILITY_AVAIL','STREET',\n",
        "   'MZZONE','AGE'  -- These columns have direct relation with SALES_PRICE Of the house.\n",
        "\n",
        "\n",
        " 2.  'QS_ROOMS', 'QS_BATHROOM', 'QS_BEDROOM','SALE_COND',   'DIST_MAINROAD', 'QS_OVERALL', 'REG_FEE', 'COMMIS' --- are not helpful in predicting the Sales_Price of the house\n",
        " "
      ],
      "metadata": {
        "id": "6MstBIkiUYkM"
      }
    },
    {
      "cell_type": "markdown",
      "source": [
        "# Encoding the Data"
      ],
      "metadata": {
        "id": "GmQKRDV_pOZo"
      }
    },
    {
      "cell_type": "code",
      "source": [
        "#Label encoding the Columns\n",
        "df.AREA = df.AREA.map({'Karapakkam':0 ,'Adyar':1,'Chrompet':2,'Velachery':3,'KK Nagar':4,\n",
        "                       'Anna Nagar':5 , 'T Nagar':6})\n",
        "df.UTILITY_AVAIL = df.UTILITY_AVAIL.map({'ELO':0,'NoSewr':1,'AllPub':2})\n",
        "df.STREET = df.STREET.map({'NoAccess':0,'Paved':1,'Gravel':2})\n",
        "df.MZZONE = df.MZZONE.map({'A':0,'C':1,'I':2,'RH':4,'RL':5,'RM':6})  "
      ],
      "metadata": {
        "id": "GKN8VtuipN0i"
      },
      "execution_count": 63,
      "outputs": []
    },
    {
      "cell_type": "code",
      "source": [
        "df.dtypes"
      ],
      "metadata": {
        "colab": {
          "base_uri": "https://localhost:8080/"
        },
        "id": "d-roTXSBPjjD",
        "outputId": "ede92f7d-0715-46f0-93d6-7a25e94f3916"
      },
      "execution_count": 64,
      "outputs": [
        {
          "output_type": "execute_result",
          "data": {
            "text/plain": [
              "AREA               int64\n",
              "INT_SQFT           int64\n",
              "DIST_MAINROAD      int64\n",
              "N_BEDROOM          int64\n",
              "N_BATHROOM         int64\n",
              "N_ROOM             int64\n",
              "SALE_COND         object\n",
              "PARK_FACIL         int64\n",
              "BUILDTYPE         object\n",
              "UTILITY_AVAIL      int64\n",
              "STREET             int64\n",
              "MZZONE             int64\n",
              "QS_ROOMS         float64\n",
              "QS_BATHROOM      float64\n",
              "QS_BEDROOM       float64\n",
              "QS_OVERALL       float64\n",
              "REG_FEE            int64\n",
              "COMMIS             int64\n",
              "SALES_PRICE        int64\n",
              "AGE                int64\n",
              "dtype: object"
            ]
          },
          "metadata": {},
          "execution_count": 64
        }
      ]
    },
    {
      "cell_type": "code",
      "source": [
        "df = pd.get_dummies(df, prefix='build',columns=['BUILDTYPE'])"
      ],
      "metadata": {
        "id": "F-yVjHXTQ0V_"
      },
      "execution_count": 65,
      "outputs": []
    },
    {
      "cell_type": "code",
      "source": [
        "#the 'Reg_fee' column is not required for predicting the sales_price, so we will drop it\n",
        "df.drop(['REG_FEE','SALE_COND','COMMIS','DIST_MAINROAD','QS_ROOMS','QS_BATHROOM','QS_BEDROOM','QS_OVERALL'],axis=1, inplace=True)       "
      ],
      "metadata": {
        "id": "awZ4bNe-vVYG"
      },
      "execution_count": 66,
      "outputs": []
    },
    {
      "cell_type": "code",
      "source": [
        "df.head()  "
      ],
      "metadata": {
        "colab": {
          "base_uri": "https://localhost:8080/",
          "height": 270
        },
        "id": "D7sKLCjnBRUR",
        "outputId": "3ad78eb7-025f-494e-84b0-8620299568a6"
      },
      "execution_count": 67,
      "outputs": [
        {
          "output_type": "execute_result",
          "data": {
            "text/plain": [
              "   AREA  INT_SQFT  N_BEDROOM  N_BATHROOM  N_ROOM  PARK_FACIL  UTILITY_AVAIL  \\\n",
              "0     0      1004          1           1       3           1              2   \n",
              "1     5      1986          2           1       5           0              2   \n",
              "2     1       909          1           1       3           1              0   \n",
              "3     3      1855          3           2       5           0              1   \n",
              "4     0      1226          1           1       3           1              2   \n",
              "\n",
              "   STREET  MZZONE  SALES_PRICE    AGE  build_Commercial  build_House  \\\n",
              "0       1       0      7600000  16031                 1            0   \n",
              "1       2       4     21717770   4015                 1            0   \n",
              "2       2       5     13159200   7152                 1            0   \n",
              "3       1       2      9630290   8030                 0            0   \n",
              "4       2       1      7406250  10802                 0            0   \n",
              "\n",
              "   build_Others  \n",
              "0             0  \n",
              "1             0  \n",
              "2             0  \n",
              "3             1  \n",
              "4             1  "
            ],
            "text/html": [
              "\n",
              "  <div id=\"df-6d720eff-7373-4c96-a5ec-7519e8d12732\">\n",
              "    <div class=\"colab-df-container\">\n",
              "      <div>\n",
              "<style scoped>\n",
              "    .dataframe tbody tr th:only-of-type {\n",
              "        vertical-align: middle;\n",
              "    }\n",
              "\n",
              "    .dataframe tbody tr th {\n",
              "        vertical-align: top;\n",
              "    }\n",
              "\n",
              "    .dataframe thead th {\n",
              "        text-align: right;\n",
              "    }\n",
              "</style>\n",
              "<table border=\"1\" class=\"dataframe\">\n",
              "  <thead>\n",
              "    <tr style=\"text-align: right;\">\n",
              "      <th></th>\n",
              "      <th>AREA</th>\n",
              "      <th>INT_SQFT</th>\n",
              "      <th>N_BEDROOM</th>\n",
              "      <th>N_BATHROOM</th>\n",
              "      <th>N_ROOM</th>\n",
              "      <th>PARK_FACIL</th>\n",
              "      <th>UTILITY_AVAIL</th>\n",
              "      <th>STREET</th>\n",
              "      <th>MZZONE</th>\n",
              "      <th>SALES_PRICE</th>\n",
              "      <th>AGE</th>\n",
              "      <th>build_Commercial</th>\n",
              "      <th>build_House</th>\n",
              "      <th>build_Others</th>\n",
              "    </tr>\n",
              "  </thead>\n",
              "  <tbody>\n",
              "    <tr>\n",
              "      <th>0</th>\n",
              "      <td>0</td>\n",
              "      <td>1004</td>\n",
              "      <td>1</td>\n",
              "      <td>1</td>\n",
              "      <td>3</td>\n",
              "      <td>1</td>\n",
              "      <td>2</td>\n",
              "      <td>1</td>\n",
              "      <td>0</td>\n",
              "      <td>7600000</td>\n",
              "      <td>16031</td>\n",
              "      <td>1</td>\n",
              "      <td>0</td>\n",
              "      <td>0</td>\n",
              "    </tr>\n",
              "    <tr>\n",
              "      <th>1</th>\n",
              "      <td>5</td>\n",
              "      <td>1986</td>\n",
              "      <td>2</td>\n",
              "      <td>1</td>\n",
              "      <td>5</td>\n",
              "      <td>0</td>\n",
              "      <td>2</td>\n",
              "      <td>2</td>\n",
              "      <td>4</td>\n",
              "      <td>21717770</td>\n",
              "      <td>4015</td>\n",
              "      <td>1</td>\n",
              "      <td>0</td>\n",
              "      <td>0</td>\n",
              "    </tr>\n",
              "    <tr>\n",
              "      <th>2</th>\n",
              "      <td>1</td>\n",
              "      <td>909</td>\n",
              "      <td>1</td>\n",
              "      <td>1</td>\n",
              "      <td>3</td>\n",
              "      <td>1</td>\n",
              "      <td>0</td>\n",
              "      <td>2</td>\n",
              "      <td>5</td>\n",
              "      <td>13159200</td>\n",
              "      <td>7152</td>\n",
              "      <td>1</td>\n",
              "      <td>0</td>\n",
              "      <td>0</td>\n",
              "    </tr>\n",
              "    <tr>\n",
              "      <th>3</th>\n",
              "      <td>3</td>\n",
              "      <td>1855</td>\n",
              "      <td>3</td>\n",
              "      <td>2</td>\n",
              "      <td>5</td>\n",
              "      <td>0</td>\n",
              "      <td>1</td>\n",
              "      <td>1</td>\n",
              "      <td>2</td>\n",
              "      <td>9630290</td>\n",
              "      <td>8030</td>\n",
              "      <td>0</td>\n",
              "      <td>0</td>\n",
              "      <td>1</td>\n",
              "    </tr>\n",
              "    <tr>\n",
              "      <th>4</th>\n",
              "      <td>0</td>\n",
              "      <td>1226</td>\n",
              "      <td>1</td>\n",
              "      <td>1</td>\n",
              "      <td>3</td>\n",
              "      <td>1</td>\n",
              "      <td>2</td>\n",
              "      <td>2</td>\n",
              "      <td>1</td>\n",
              "      <td>7406250</td>\n",
              "      <td>10802</td>\n",
              "      <td>0</td>\n",
              "      <td>0</td>\n",
              "      <td>1</td>\n",
              "    </tr>\n",
              "  </tbody>\n",
              "</table>\n",
              "</div>\n",
              "      <button class=\"colab-df-convert\" onclick=\"convertToInteractive('df-6d720eff-7373-4c96-a5ec-7519e8d12732')\"\n",
              "              title=\"Convert this dataframe to an interactive table.\"\n",
              "              style=\"display:none;\">\n",
              "        \n",
              "  <svg xmlns=\"http://www.w3.org/2000/svg\" height=\"24px\"viewBox=\"0 0 24 24\"\n",
              "       width=\"24px\">\n",
              "    <path d=\"M0 0h24v24H0V0z\" fill=\"none\"/>\n",
              "    <path d=\"M18.56 5.44l.94 2.06.94-2.06 2.06-.94-2.06-.94-.94-2.06-.94 2.06-2.06.94zm-11 1L8.5 8.5l.94-2.06 2.06-.94-2.06-.94L8.5 2.5l-.94 2.06-2.06.94zm10 10l.94 2.06.94-2.06 2.06-.94-2.06-.94-.94-2.06-.94 2.06-2.06.94z\"/><path d=\"M17.41 7.96l-1.37-1.37c-.4-.4-.92-.59-1.43-.59-.52 0-1.04.2-1.43.59L10.3 9.45l-7.72 7.72c-.78.78-.78 2.05 0 2.83L4 21.41c.39.39.9.59 1.41.59.51 0 1.02-.2 1.41-.59l7.78-7.78 2.81-2.81c.8-.78.8-2.07 0-2.86zM5.41 20L4 18.59l7.72-7.72 1.47 1.35L5.41 20z\"/>\n",
              "  </svg>\n",
              "      </button>\n",
              "      \n",
              "  <style>\n",
              "    .colab-df-container {\n",
              "      display:flex;\n",
              "      flex-wrap:wrap;\n",
              "      gap: 12px;\n",
              "    }\n",
              "\n",
              "    .colab-df-convert {\n",
              "      background-color: #E8F0FE;\n",
              "      border: none;\n",
              "      border-radius: 50%;\n",
              "      cursor: pointer;\n",
              "      display: none;\n",
              "      fill: #1967D2;\n",
              "      height: 32px;\n",
              "      padding: 0 0 0 0;\n",
              "      width: 32px;\n",
              "    }\n",
              "\n",
              "    .colab-df-convert:hover {\n",
              "      background-color: #E2EBFA;\n",
              "      box-shadow: 0px 1px 2px rgba(60, 64, 67, 0.3), 0px 1px 3px 1px rgba(60, 64, 67, 0.15);\n",
              "      fill: #174EA6;\n",
              "    }\n",
              "\n",
              "    [theme=dark] .colab-df-convert {\n",
              "      background-color: #3B4455;\n",
              "      fill: #D2E3FC;\n",
              "    }\n",
              "\n",
              "    [theme=dark] .colab-df-convert:hover {\n",
              "      background-color: #434B5C;\n",
              "      box-shadow: 0px 1px 3px 1px rgba(0, 0, 0, 0.15);\n",
              "      filter: drop-shadow(0px 1px 2px rgba(0, 0, 0, 0.3));\n",
              "      fill: #FFFFFF;\n",
              "    }\n",
              "  </style>\n",
              "\n",
              "      <script>\n",
              "        const buttonEl =\n",
              "          document.querySelector('#df-6d720eff-7373-4c96-a5ec-7519e8d12732 button.colab-df-convert');\n",
              "        buttonEl.style.display =\n",
              "          google.colab.kernel.accessAllowed ? 'block' : 'none';\n",
              "\n",
              "        async function convertToInteractive(key) {\n",
              "          const element = document.querySelector('#df-6d720eff-7373-4c96-a5ec-7519e8d12732');\n",
              "          const dataTable =\n",
              "            await google.colab.kernel.invokeFunction('convertToInteractive',\n",
              "                                                     [key], {});\n",
              "          if (!dataTable) return;\n",
              "\n",
              "          const docLinkHtml = 'Like what you see? Visit the ' +\n",
              "            '<a target=\"_blank\" href=https://colab.research.google.com/notebooks/data_table.ipynb>data table notebook</a>'\n",
              "            + ' to learn more about interactive tables.';\n",
              "          element.innerHTML = '';\n",
              "          dataTable['output_type'] = 'display_data';\n",
              "          await google.colab.output.renderOutput(dataTable, element);\n",
              "          const docLink = document.createElement('div');\n",
              "          docLink.innerHTML = docLinkHtml;\n",
              "          element.appendChild(docLink);\n",
              "        }\n",
              "      </script>\n",
              "    </div>\n",
              "  </div>\n",
              "  "
            ]
          },
          "metadata": {},
          "execution_count": 67
        }
      ]
    },
    {
      "cell_type": "markdown",
      "source": [],
      "metadata": {
        "id": "EKjGI-QVSqHD"
      }
    },
    {
      "cell_type": "code",
      "source": [
        "cols = set(df.columns)        \n",
        "cols.remove('SALES_PRICE') "
      ],
      "metadata": {
        "id": "krN7AwkLs7bY"
      },
      "execution_count": 68,
      "outputs": []
    },
    {
      "cell_type": "code",
      "source": [
        "X = df[cols] \n",
        "Y = df['SALES_PRICE']\n",
        "X_train, X_test, y_train, y_test = train_test_split(X,Y, test_size=0.20)"
      ],
      "metadata": {
        "id": "xMCvblJGvgsm"
      },
      "execution_count": 69,
      "outputs": []
    },
    {
      "cell_type": "code",
      "source": [
        "scaler = StandardScaler() \n",
        "x_train_scaled = scaler.fit_transform(X_train)\n",
        "x_test_scaled = scaler.transform(X_test)"
      ],
      "metadata": {
        "id": "X-ABJnACzPra"
      },
      "execution_count": 70,
      "outputs": []
    },
    {
      "cell_type": "markdown",
      "source": [
        "## Building the Model"
      ],
      "metadata": {
        "id": "CZJ6sl3n-NOY"
      }
    },
    {
      "cell_type": "markdown",
      "source": [
        "1. Linear Regressor"
      ],
      "metadata": {
        "id": "Dql9cfDJDgjr"
      }
    },
    {
      "cell_type": "code",
      "source": [
        "# Building thte model \n",
        "lin_reg = LinearRegression()\n",
        "lin_reg.fit(x_train_scaled,y_train) \n",
        "\n",
        "lin_pred = lin_reg.predict(x_test_scaled)\n",
        "lin_score = r2_score(y_test,lin_pred) \n",
        "lin_score "
      ],
      "metadata": {
        "colab": {
          "base_uri": "https://localhost:8080/"
        },
        "id": "iYNf18kX3vfJ",
        "outputId": "1bcc625e-952e-4a1a-8450-2d69154f613d"
      },
      "execution_count": 71,
      "outputs": [
        {
          "output_type": "execute_result",
          "data": {
            "text/plain": [
              "0.9190580931424872"
            ]
          },
          "metadata": {},
          "execution_count": 71
        }
      ]
    },
    {
      "cell_type": "markdown",
      "source": [
        "2. Decision Tree Regressor"
      ],
      "metadata": {
        "id": "nPueQK6SD0a4"
      }
    },
    {
      "cell_type": "code",
      "source": [
        "dt = DecisionTreeRegressor()\n",
        "dt.fit(x_train_scaled,y_train) \n",
        "dt_pred = dt.predict(x_test_scaled) \n",
        "\n",
        "dt_r_score = r2_score(y_test,dt_pred)\n",
        "dt_r_score"
      ],
      "metadata": {
        "colab": {
          "base_uri": "https://localhost:8080/"
        },
        "id": "Z2h-dITE-GM2",
        "outputId": "0b132e61-fc4f-4303-81a2-d6aa8d241336"
      },
      "execution_count": 72,
      "outputs": [
        {
          "output_type": "execute_result",
          "data": {
            "text/plain": [
              "0.9733470849401837"
            ]
          },
          "metadata": {},
          "execution_count": 72
        }
      ]
    },
    {
      "cell_type": "markdown",
      "source": [
        "3. KNN Regressor"
      ],
      "metadata": {
        "id": "Tp1jgl2SD6OY"
      }
    },
    {
      "cell_type": "code",
      "source": [
        "knn = KNeighborsRegressor()\n",
        "knn.fit(x_train_scaled , y_train)\n",
        "knn_pred = knn.predict(x_test_scaled)\n",
        "\n",
        "knn_r_score = r2_score(y_test,knn_pred)\n",
        "knn_r_score"
      ],
      "metadata": {
        "colab": {
          "base_uri": "https://localhost:8080/"
        },
        "id": "ZoiisQdIBGw5",
        "outputId": "70c08f74-6426-4e55-8d9a-9018206f2164"
      },
      "execution_count": 73,
      "outputs": [
        {
          "output_type": "execute_result",
          "data": {
            "text/plain": [
              "0.9535962886303144"
            ]
          },
          "metadata": {},
          "execution_count": 73
        }
      ]
    },
    {
      "cell_type": "markdown",
      "source": [
        "4. Random Forest Regressor"
      ],
      "metadata": {
        "id": "-rp6NQW6FkK9"
      }
    },
    {
      "cell_type": "code",
      "source": [
        "random_forest = RandomForestRegressor()\n",
        "random_forest.fit(x_train_scaled, y_train)\n",
        "random_forest_pred = random_forest.predict(x_test_scaled)\n",
        "\n",
        "random_forest_score = r2_score(y_test,random_forest_pred)\n",
        "random_forest_score"
      ],
      "metadata": {
        "colab": {
          "base_uri": "https://localhost:8080/"
        },
        "id": "CENv-53yCmhu",
        "outputId": "71456255-2329-4ad0-f561-779906d8a553"
      },
      "execution_count": 74,
      "outputs": [
        {
          "output_type": "execute_result",
          "data": {
            "text/plain": [
              "0.9890478304554261"
            ]
          },
          "metadata": {},
          "execution_count": 74
        }
      ]
    },
    {
      "cell_type": "markdown",
      "source": [
        "5. XGB Regressor"
      ],
      "metadata": {
        "id": "iBZ1SOUTGVe9"
      }
    },
    {
      "cell_type": "code",
      "source": [
        "import warnings\n",
        "warnings.filterwarnings(\"ignore\")\n",
        "\n",
        "xgb = XGBRegressor()\n",
        "xgb.fit(x_train_scaled,y_train)\n",
        "xgb_pred = xgb.predict(x_test_scaled)\n",
        "\n",
        "xgb_score = r2_score(y_test,xgb_pred)\n",
        "xgb_score"
      ],
      "metadata": {
        "colab": {
          "base_uri": "https://localhost:8080/"
        },
        "id": "9SwmGnCjGSu4",
        "outputId": "a5c5a114-07b1-4c2d-fb4c-c1849e98d83b"
      },
      "execution_count": 75,
      "outputs": [
        {
          "output_type": "stream",
          "name": "stdout",
          "text": [
            "[15:09:02] WARNING: /workspace/src/objective/regression_obj.cu:152: reg:linear is now deprecated in favor of reg:squarederror.\n"
          ]
        },
        {
          "output_type": "execute_result",
          "data": {
            "text/plain": [
              "0.9892943998263258"
            ]
          },
          "metadata": {},
          "execution_count": 75
        }
      ]
    },
    {
      "cell_type": "markdown",
      "source": [
        "Final Result \n",
        "\n",
        "1. Linear Regression gave r2_score of 92% \n",
        "2. Decision Tree gave r2 score of 97.3%\n",
        "3. KNN Regression gave r2 score of 95.2%\n",
        "4. Random Forest gave r2 score of 98.85%\n",
        "5. XGB Regressor gave r2 score of 98.88 %\n",
        "\n",
        "\n",
        "Random Forest and XGB Regressor both have got best r2 values."
      ],
      "metadata": {
        "id": "lLeY6bmhWUhj"
      }
    }
  ]
}